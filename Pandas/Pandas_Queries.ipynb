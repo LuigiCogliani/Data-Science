{
 "cells": [
  {
   "cell_type": "code",
   "execution_count": 2,
   "metadata": {},
   "outputs": [],
   "source": [
    "import pandas as pd \n",
    "import numpy as np \n",
    "df = pd.read_csv('avocado.csv',index_col='Unnamed: 0')"
   ]
  },
  {
   "cell_type": "code",
   "execution_count": 42,
   "metadata": {},
   "outputs": [
    {
     "output_type": "execute_result",
     "data": {
      "text/plain": "         Date  AveragePrice  Total Volume     4046       4225    4770  \\\n0  2015-12-27          1.33      64236.62  1036.74   54454.85   48.16   \n1  2015-12-20          1.35      54876.98   674.28   44638.81   58.33   \n2  2015-12-13          0.93     118220.22   794.70  109149.67  130.50   \n3  2015-12-06          1.08      78992.15  1132.00   71976.41   72.58   \n4  2015-11-29          1.28      51039.60   941.48   43838.39   75.78   \n\n   Total Bags  Small Bags  Large Bags  XLarge Bags          type  year  region  \n0     8696.87     8603.62       93.25          0.0  conventional  2015  Albany  \n1     9505.56     9408.07       97.49          0.0  conventional  2015  Albany  \n2     8145.35     8042.21      103.14          0.0  conventional  2015  Albany  \n3     5811.16     5677.40      133.76          0.0  conventional  2015  Albany  \n4     6183.95     5986.26      197.69          0.0  conventional  2015  Albany  ",
      "text/html": "<div>\n<style scoped>\n    .dataframe tbody tr th:only-of-type {\n        vertical-align: middle;\n    }\n\n    .dataframe tbody tr th {\n        vertical-align: top;\n    }\n\n    .dataframe thead th {\n        text-align: right;\n    }\n</style>\n<table border=\"1\" class=\"dataframe\">\n  <thead>\n    <tr style=\"text-align: right;\">\n      <th></th>\n      <th>Date</th>\n      <th>AveragePrice</th>\n      <th>Total Volume</th>\n      <th>4046</th>\n      <th>4225</th>\n      <th>4770</th>\n      <th>Total Bags</th>\n      <th>Small Bags</th>\n      <th>Large Bags</th>\n      <th>XLarge Bags</th>\n      <th>type</th>\n      <th>year</th>\n      <th>region</th>\n    </tr>\n  </thead>\n  <tbody>\n    <tr>\n      <th>0</th>\n      <td>2015-12-27</td>\n      <td>1.33</td>\n      <td>64236.62</td>\n      <td>1036.74</td>\n      <td>54454.85</td>\n      <td>48.16</td>\n      <td>8696.87</td>\n      <td>8603.62</td>\n      <td>93.25</td>\n      <td>0.0</td>\n      <td>conventional</td>\n      <td>2015</td>\n      <td>Albany</td>\n    </tr>\n    <tr>\n      <th>1</th>\n      <td>2015-12-20</td>\n      <td>1.35</td>\n      <td>54876.98</td>\n      <td>674.28</td>\n      <td>44638.81</td>\n      <td>58.33</td>\n      <td>9505.56</td>\n      <td>9408.07</td>\n      <td>97.49</td>\n      <td>0.0</td>\n      <td>conventional</td>\n      <td>2015</td>\n      <td>Albany</td>\n    </tr>\n    <tr>\n      <th>2</th>\n      <td>2015-12-13</td>\n      <td>0.93</td>\n      <td>118220.22</td>\n      <td>794.70</td>\n      <td>109149.67</td>\n      <td>130.50</td>\n      <td>8145.35</td>\n      <td>8042.21</td>\n      <td>103.14</td>\n      <td>0.0</td>\n      <td>conventional</td>\n      <td>2015</td>\n      <td>Albany</td>\n    </tr>\n    <tr>\n      <th>3</th>\n      <td>2015-12-06</td>\n      <td>1.08</td>\n      <td>78992.15</td>\n      <td>1132.00</td>\n      <td>71976.41</td>\n      <td>72.58</td>\n      <td>5811.16</td>\n      <td>5677.40</td>\n      <td>133.76</td>\n      <td>0.0</td>\n      <td>conventional</td>\n      <td>2015</td>\n      <td>Albany</td>\n    </tr>\n    <tr>\n      <th>4</th>\n      <td>2015-11-29</td>\n      <td>1.28</td>\n      <td>51039.60</td>\n      <td>941.48</td>\n      <td>43838.39</td>\n      <td>75.78</td>\n      <td>6183.95</td>\n      <td>5986.26</td>\n      <td>197.69</td>\n      <td>0.0</td>\n      <td>conventional</td>\n      <td>2015</td>\n      <td>Albany</td>\n    </tr>\n  </tbody>\n</table>\n</div>"
     },
     "metadata": {},
     "execution_count": 42
    }
   ],
   "source": [
    "df.head()"
   ]
  },
  {
   "cell_type": "code",
   "execution_count": 43,
   "metadata": {},
   "outputs": [
    {
     "output_type": "execute_result",
     "data": {
      "text/plain": "18249"
     },
     "metadata": {},
     "execution_count": 43
    }
   ],
   "source": [
    "df['year'].count()"
   ]
  },
  {
   "cell_type": "markdown",
   "metadata": {},
   "source": [
    "# Visualising Columns\n",
    "## Here is a list of 3 different methods to print the name of the columns:\n",
    "1. *.count()*\n",
    "2. *.dtypes*\n",
    "3. using list comprehension\n",
    "\n",
    "## You can also use *.info()* or *.describe()*, which will give you some useful insights on the dataset, showing also the name of the columns"
   ]
  },
  {
   "cell_type": "code",
   "execution_count": 44,
   "metadata": {},
   "outputs": [
    {
     "output_type": "execute_result",
     "data": {
      "text/plain": "Date            18249\nAveragePrice    18249\nTotal Volume    18249\n4046            18249\n4225            18249\n4770            18249\nTotal Bags      18249\nSmall Bags      18249\nLarge Bags      18249\nXLarge Bags     18249\ntype            18249\nyear            18249\nregion          18249\ndtype: int64"
     },
     "metadata": {},
     "execution_count": 44
    }
   ],
   "source": [
    "#count returns the number of values per column (hence printin the column names)\n",
    "df.count()"
   ]
  },
  {
   "cell_type": "code",
   "execution_count": 3,
   "metadata": {},
   "outputs": [
    {
     "output_type": "execute_result",
     "data": {
      "text/plain": "Date             object\nAveragePrice    float64\nTotal Volume    float64\n4046            float64\n4225            float64\n4770            float64\nTotal Bags      float64\nSmall Bags      float64\nLarge Bags      float64\nXLarge Bags     float64\ntype             object\nyear              int64\nregion           object\ndtype: object"
     },
     "metadata": {},
     "execution_count": 3
    }
   ],
   "source": [
    "#dtypes prints the types of entried in the columns, also printing the columns\n",
    "df.dtypes"
   ]
  },
  {
   "cell_type": "code",
   "execution_count": 4,
   "metadata": {
    "tags": []
   },
   "outputs": [
    {
     "output_type": "stream",
     "name": "stdout",
     "text": "Date\nAveragePrice\nTotal Volume\n4046\n4225\n4770\nTotal Bags\nSmall Bags\nLarge Bags\nXLarge Bags\ntype\nyear\nregion\n"
    },
    {
     "output_type": "execute_result",
     "data": {
      "text/plain": "[None, None, None, None, None, None, None, None, None, None, None, None, None]"
     },
     "metadata": {},
     "execution_count": 4
    }
   ],
   "source": [
    "#we can print the columns using a for loop\n",
    "[print(col) for col in df.columns]"
   ]
  },
  {
   "cell_type": "code",
   "execution_count": 3,
   "metadata": {
    "tags": []
   },
   "outputs": [
    {
     "output_type": "stream",
     "name": "stdout",
     "text": "<class 'pandas.core.frame.DataFrame'>\nInt64Index: 18249 entries, 0 to 11\nData columns (total 13 columns):\n #   Column        Non-Null Count  Dtype  \n---  ------        --------------  -----  \n 0   Date          18249 non-null  object \n 1   AveragePrice  18249 non-null  float64\n 2   Total Volume  18249 non-null  float64\n 3   4046          18249 non-null  float64\n 4   4225          18249 non-null  float64\n 5   4770          18249 non-null  float64\n 6   Total Bags    18249 non-null  float64\n 7   Small Bags    18249 non-null  float64\n 8   Large Bags    18249 non-null  float64\n 9   XLarge Bags   18249 non-null  float64\n 10  type          18249 non-null  object \n 11  year          18249 non-null  int64  \n 12  region        18249 non-null  object \ndtypes: float64(9), int64(1), object(3)\nmemory usage: 1.9+ MB\n"
    }
   ],
   "source": [
    "df.info()"
   ]
  },
  {
   "cell_type": "code",
   "execution_count": 4,
   "metadata": {},
   "outputs": [
    {
     "output_type": "execute_result",
     "data": {
      "text/plain": "       AveragePrice  Total Volume          4046          4225          4770  \\\ncount  18249.000000  1.824900e+04  1.824900e+04  1.824900e+04  1.824900e+04   \nmean       1.405978  8.506440e+05  2.930084e+05  2.951546e+05  2.283974e+04   \nstd        0.402677  3.453545e+06  1.264989e+06  1.204120e+06  1.074641e+05   \nmin        0.440000  8.456000e+01  0.000000e+00  0.000000e+00  0.000000e+00   \n25%        1.100000  1.083858e+04  8.540700e+02  3.008780e+03  0.000000e+00   \n50%        1.370000  1.073768e+05  8.645300e+03  2.906102e+04  1.849900e+02   \n75%        1.660000  4.329623e+05  1.110202e+05  1.502069e+05  6.243420e+03   \nmax        3.250000  6.250565e+07  2.274362e+07  2.047057e+07  2.546439e+06   \n\n         Total Bags    Small Bags    Large Bags    XLarge Bags          year  \ncount  1.824900e+04  1.824900e+04  1.824900e+04   18249.000000  18249.000000  \nmean   2.396392e+05  1.821947e+05  5.433809e+04    3106.426507   2016.147899  \nstd    9.862424e+05  7.461785e+05  2.439660e+05   17692.894652      0.939938  \nmin    0.000000e+00  0.000000e+00  0.000000e+00       0.000000   2015.000000  \n25%    5.088640e+03  2.849420e+03  1.274700e+02       0.000000   2015.000000  \n50%    3.974383e+04  2.636282e+04  2.647710e+03       0.000000   2016.000000  \n75%    1.107834e+05  8.333767e+04  2.202925e+04     132.500000   2017.000000  \nmax    1.937313e+07  1.338459e+07  5.719097e+06  551693.650000   2018.000000  ",
      "text/html": "<div>\n<style scoped>\n    .dataframe tbody tr th:only-of-type {\n        vertical-align: middle;\n    }\n\n    .dataframe tbody tr th {\n        vertical-align: top;\n    }\n\n    .dataframe thead th {\n        text-align: right;\n    }\n</style>\n<table border=\"1\" class=\"dataframe\">\n  <thead>\n    <tr style=\"text-align: right;\">\n      <th></th>\n      <th>AveragePrice</th>\n      <th>Total Volume</th>\n      <th>4046</th>\n      <th>4225</th>\n      <th>4770</th>\n      <th>Total Bags</th>\n      <th>Small Bags</th>\n      <th>Large Bags</th>\n      <th>XLarge Bags</th>\n      <th>year</th>\n    </tr>\n  </thead>\n  <tbody>\n    <tr>\n      <th>count</th>\n      <td>18249.000000</td>\n      <td>1.824900e+04</td>\n      <td>1.824900e+04</td>\n      <td>1.824900e+04</td>\n      <td>1.824900e+04</td>\n      <td>1.824900e+04</td>\n      <td>1.824900e+04</td>\n      <td>1.824900e+04</td>\n      <td>18249.000000</td>\n      <td>18249.000000</td>\n    </tr>\n    <tr>\n      <th>mean</th>\n      <td>1.405978</td>\n      <td>8.506440e+05</td>\n      <td>2.930084e+05</td>\n      <td>2.951546e+05</td>\n      <td>2.283974e+04</td>\n      <td>2.396392e+05</td>\n      <td>1.821947e+05</td>\n      <td>5.433809e+04</td>\n      <td>3106.426507</td>\n      <td>2016.147899</td>\n    </tr>\n    <tr>\n      <th>std</th>\n      <td>0.402677</td>\n      <td>3.453545e+06</td>\n      <td>1.264989e+06</td>\n      <td>1.204120e+06</td>\n      <td>1.074641e+05</td>\n      <td>9.862424e+05</td>\n      <td>7.461785e+05</td>\n      <td>2.439660e+05</td>\n      <td>17692.894652</td>\n      <td>0.939938</td>\n    </tr>\n    <tr>\n      <th>min</th>\n      <td>0.440000</td>\n      <td>8.456000e+01</td>\n      <td>0.000000e+00</td>\n      <td>0.000000e+00</td>\n      <td>0.000000e+00</td>\n      <td>0.000000e+00</td>\n      <td>0.000000e+00</td>\n      <td>0.000000e+00</td>\n      <td>0.000000</td>\n      <td>2015.000000</td>\n    </tr>\n    <tr>\n      <th>25%</th>\n      <td>1.100000</td>\n      <td>1.083858e+04</td>\n      <td>8.540700e+02</td>\n      <td>3.008780e+03</td>\n      <td>0.000000e+00</td>\n      <td>5.088640e+03</td>\n      <td>2.849420e+03</td>\n      <td>1.274700e+02</td>\n      <td>0.000000</td>\n      <td>2015.000000</td>\n    </tr>\n    <tr>\n      <th>50%</th>\n      <td>1.370000</td>\n      <td>1.073768e+05</td>\n      <td>8.645300e+03</td>\n      <td>2.906102e+04</td>\n      <td>1.849900e+02</td>\n      <td>3.974383e+04</td>\n      <td>2.636282e+04</td>\n      <td>2.647710e+03</td>\n      <td>0.000000</td>\n      <td>2016.000000</td>\n    </tr>\n    <tr>\n      <th>75%</th>\n      <td>1.660000</td>\n      <td>4.329623e+05</td>\n      <td>1.110202e+05</td>\n      <td>1.502069e+05</td>\n      <td>6.243420e+03</td>\n      <td>1.107834e+05</td>\n      <td>8.333767e+04</td>\n      <td>2.202925e+04</td>\n      <td>132.500000</td>\n      <td>2017.000000</td>\n    </tr>\n    <tr>\n      <th>max</th>\n      <td>3.250000</td>\n      <td>6.250565e+07</td>\n      <td>2.274362e+07</td>\n      <td>2.047057e+07</td>\n      <td>2.546439e+06</td>\n      <td>1.937313e+07</td>\n      <td>1.338459e+07</td>\n      <td>5.719097e+06</td>\n      <td>551693.650000</td>\n      <td>2018.000000</td>\n    </tr>\n  </tbody>\n</table>\n</div>"
     },
     "metadata": {},
     "execution_count": 4
    }
   ],
   "source": [
    "df.describe()"
   ]
  },
  {
   "cell_type": "code",
   "execution_count": 45,
   "metadata": {},
   "outputs": [
    {
     "output_type": "execute_result",
     "data": {
      "text/plain": "2017    5722\n2016    5616\n2015    5615\n2018    1296\nName: year, dtype: int64"
     },
     "metadata": {},
     "execution_count": 45
    }
   ],
   "source": [
    "df['year'].value_counts()"
   ]
  },
  {
   "cell_type": "code",
   "execution_count": 31,
   "metadata": {},
   "outputs": [
    {
     "output_type": "execute_result",
     "data": {
      "text/plain": "region\nAlbany                 1.606780e+07\nAtlanta                8.860512e+07\nBaltimoreWashington    1.347139e+08\nBoise                  1.441319e+07\nBoston                 9.727398e+07\nBuffaloRochester       2.296247e+07\nCalifornia             1.028982e+09\nCharlotte              3.555554e+07\nChicago                1.337023e+08\nCincinnatiDayton       4.452201e+07\nColumbus               2.999336e+07\nDallasFtWorth          2.084193e+08\nDenver                 1.389025e+08\nDetroit                6.342242e+07\nGrandRapids            3.021174e+07\nGreatLakes             5.896425e+08\nHarrisburgScranton     4.180886e+07\nHartfordSpringfield    5.067054e+07\nHouston                2.031679e+08\nIndianapolis           3.026339e+07\nJacksonville           2.879000e+07\nLasVegas               5.437691e+07\nLosAngeles             5.078965e+08\nLouisville             1.609700e+07\nMiamiFtLauderdale      9.767322e+07\nMidsouth               5.083494e+08\nNashville              3.561209e+07\nNewOrleansMobile       4.569514e+07\nNewYork                2.407341e+08\nNortheast              7.132809e+08\nNorthernNewEngland     7.153289e+07\nOrlando                5.866070e+07\nPhiladelphia           7.183880e+07\nPhoenixTucson          1.956433e+08\nPittsburgh             1.880635e+07\nPlains                 3.111885e+08\nPortland               1.105522e+08\nRaleighGreensboro      4.820273e+07\nRichmondNorfolk        4.223085e+07\nRoanoke                2.504201e+07\nSacramento             7.516375e+07\nSanDiego               8.979192e+07\nSanFrancisco           1.358302e+08\nSeattle                1.092142e+08\nSouthCarolina          6.075377e+07\nSouthCentral           1.011280e+09\nSoutheast              6.152384e+08\nSpokane                1.556528e+07\nStLouis                3.207283e+07\nSyracuse               1.094267e+07\nTampa                  6.600454e+07\nTotalUS                5.864740e+09\nWest                   1.086779e+09\nWestTexNewMexico       1.445218e+08\nName: Total Volume, dtype: float64"
     },
     "metadata": {},
     "execution_count": 31
    }
   ],
   "source": [
    "df.groupby('region')['Total Volume'].sum()"
   ]
  },
  {
   "cell_type": "code",
   "execution_count": 48,
   "metadata": {},
   "outputs": [
    {
     "output_type": "execute_result",
     "data": {
      "text/plain": "              Total Volume      year\ntype                                \nconventional  1.508722e+10  18399366\norganic       4.361817e+08  18393317",
      "text/html": "<div>\n<style scoped>\n    .dataframe tbody tr th:only-of-type {\n        vertical-align: middle;\n    }\n\n    .dataframe tbody tr th {\n        vertical-align: top;\n    }\n\n    .dataframe thead th {\n        text-align: right;\n    }\n</style>\n<table border=\"1\" class=\"dataframe\">\n  <thead>\n    <tr style=\"text-align: right;\">\n      <th></th>\n      <th>Total Volume</th>\n      <th>year</th>\n    </tr>\n    <tr>\n      <th>type</th>\n      <th></th>\n      <th></th>\n    </tr>\n  </thead>\n  <tbody>\n    <tr>\n      <th>conventional</th>\n      <td>1.508722e+10</td>\n      <td>18399366</td>\n    </tr>\n    <tr>\n      <th>organic</th>\n      <td>4.361817e+08</td>\n      <td>18393317</td>\n    </tr>\n  </tbody>\n</table>\n</div>"
     },
     "metadata": {},
     "execution_count": 48
    }
   ],
   "source": [
    "df.groupby('type')['Total Volume','year'].sum()"
   ]
  },
  {
   "cell_type": "code",
   "execution_count": 49,
   "metadata": {},
   "outputs": [
    {
     "output_type": "execute_result",
     "data": {
      "text/plain": "region\nHouston             1.047929\nDallasFtWorth       1.085592\nSouthCentral        1.101243\nCincinnatiDayton    1.209201\nNashville           1.212101\nLosAngeles          1.216006\nDenver              1.218580\nPhoenixTucson       1.224438\nRoanoke             1.247929\nColumbus            1.252781\nWestTexNewMexico    1.261701\nWest                1.272219\nDetroit             1.276095\nLouisville          1.286686\nRichmondNorfolk     1.291331\nNewOrleansMobile    1.304793\nIndianapolis        1.313994\nPortland            1.317722\nTotalUS             1.319024\nAtlanta             1.337959\nName: AveragePrice, dtype: float64"
     },
     "metadata": {},
     "execution_count": 49
    }
   ],
   "source": [
    "df.groupby('region')['AveragePrice'].mean().sort_values(ascending=True)[:20]"
   ]
  },
  {
   "cell_type": "code",
   "execution_count": 50,
   "metadata": {
    "tags": []
   },
   "outputs": [
    {
     "output_type": "stream",
     "name": "stdout",
     "text": "Total Bags\ntot =  4373175798.389999\nSmall Bags\ntot =  3324870837.51\nLarge Bags\ntot =  991615770.5500001\nXLarge Bags\ntot =  56689177.32999999\n"
    }
   ],
   "source": [
    "#total of small bags, large and xl as percentage of total bags in the whole dataset\n",
    "for col in df.columns:\n",
    "    if \"Bags\" in col:\n",
    "        print (col)\n",
    "        print ('tot = ',df[col].sum())"
   ]
  },
  {
   "cell_type": "code",
   "execution_count": 51,
   "metadata": {},
   "outputs": [],
   "source": [
    "df['month'] = pd.DatetimeIndex(df['Date']).month"
   ]
  },
  {
   "cell_type": "code",
   "execution_count": 52,
   "metadata": {},
   "outputs": [
    {
     "output_type": "execute_result",
     "data": {
      "text/plain": "          Date  AveragePrice  Total Volume     4046       4225    4770  \\\n0   2015-12-27          1.33      64236.62  1036.74   54454.85   48.16   \n1   2015-12-20          1.35      54876.98   674.28   44638.81   58.33   \n2   2015-12-13          0.93     118220.22   794.70  109149.67  130.50   \n3   2015-12-06          1.08      78992.15  1132.00   71976.41   72.58   \n4   2015-11-29          1.28      51039.60   941.48   43838.39   75.78   \n..         ...           ...           ...      ...        ...     ...   \n7   2018-02-04          1.63      17074.83  2046.96    1529.20    0.00   \n8   2018-01-28          1.71      13888.04  1191.70    3431.50    0.00   \n9   2018-01-21          1.87      13766.76  1191.92    2452.79  727.94   \n10  2018-01-14          1.93      16205.22  1527.63    2981.04  727.01   \n11  2018-01-07          1.62      17489.58  2894.77    2356.13  224.53   \n\n    Total Bags  Small Bags  Large Bags  XLarge Bags          type  year  \\\n0      8696.87     8603.62       93.25          0.0  conventional  2015   \n1      9505.56     9408.07       97.49          0.0  conventional  2015   \n2      8145.35     8042.21      103.14          0.0  conventional  2015   \n3      5811.16     5677.40      133.76          0.0  conventional  2015   \n4      6183.95     5986.26      197.69          0.0  conventional  2015   \n..         ...         ...         ...          ...           ...   ...   \n7     13498.67    13066.82      431.85          0.0       organic  2018   \n8      9264.84     8940.04      324.80          0.0       organic  2018   \n9      9394.11     9351.80       42.31          0.0       organic  2018   \n10    10969.54    10919.54       50.00          0.0       organic  2018   \n11    12014.15    11988.14       26.01          0.0       organic  2018   \n\n              region  month  \n0             Albany     12  \n1             Albany     12  \n2             Albany     12  \n3             Albany     12  \n4             Albany     11  \n..               ...    ...  \n7   WestTexNewMexico      2  \n8   WestTexNewMexico      1  \n9   WestTexNewMexico      1  \n10  WestTexNewMexico      1  \n11  WestTexNewMexico      1  \n\n[18249 rows x 14 columns]",
      "text/html": "<div>\n<style scoped>\n    .dataframe tbody tr th:only-of-type {\n        vertical-align: middle;\n    }\n\n    .dataframe tbody tr th {\n        vertical-align: top;\n    }\n\n    .dataframe thead th {\n        text-align: right;\n    }\n</style>\n<table border=\"1\" class=\"dataframe\">\n  <thead>\n    <tr style=\"text-align: right;\">\n      <th></th>\n      <th>Date</th>\n      <th>AveragePrice</th>\n      <th>Total Volume</th>\n      <th>4046</th>\n      <th>4225</th>\n      <th>4770</th>\n      <th>Total Bags</th>\n      <th>Small Bags</th>\n      <th>Large Bags</th>\n      <th>XLarge Bags</th>\n      <th>type</th>\n      <th>year</th>\n      <th>region</th>\n      <th>month</th>\n    </tr>\n  </thead>\n  <tbody>\n    <tr>\n      <th>0</th>\n      <td>2015-12-27</td>\n      <td>1.33</td>\n      <td>64236.62</td>\n      <td>1036.74</td>\n      <td>54454.85</td>\n      <td>48.16</td>\n      <td>8696.87</td>\n      <td>8603.62</td>\n      <td>93.25</td>\n      <td>0.0</td>\n      <td>conventional</td>\n      <td>2015</td>\n      <td>Albany</td>\n      <td>12</td>\n    </tr>\n    <tr>\n      <th>1</th>\n      <td>2015-12-20</td>\n      <td>1.35</td>\n      <td>54876.98</td>\n      <td>674.28</td>\n      <td>44638.81</td>\n      <td>58.33</td>\n      <td>9505.56</td>\n      <td>9408.07</td>\n      <td>97.49</td>\n      <td>0.0</td>\n      <td>conventional</td>\n      <td>2015</td>\n      <td>Albany</td>\n      <td>12</td>\n    </tr>\n    <tr>\n      <th>2</th>\n      <td>2015-12-13</td>\n      <td>0.93</td>\n      <td>118220.22</td>\n      <td>794.70</td>\n      <td>109149.67</td>\n      <td>130.50</td>\n      <td>8145.35</td>\n      <td>8042.21</td>\n      <td>103.14</td>\n      <td>0.0</td>\n      <td>conventional</td>\n      <td>2015</td>\n      <td>Albany</td>\n      <td>12</td>\n    </tr>\n    <tr>\n      <th>3</th>\n      <td>2015-12-06</td>\n      <td>1.08</td>\n      <td>78992.15</td>\n      <td>1132.00</td>\n      <td>71976.41</td>\n      <td>72.58</td>\n      <td>5811.16</td>\n      <td>5677.40</td>\n      <td>133.76</td>\n      <td>0.0</td>\n      <td>conventional</td>\n      <td>2015</td>\n      <td>Albany</td>\n      <td>12</td>\n    </tr>\n    <tr>\n      <th>4</th>\n      <td>2015-11-29</td>\n      <td>1.28</td>\n      <td>51039.60</td>\n      <td>941.48</td>\n      <td>43838.39</td>\n      <td>75.78</td>\n      <td>6183.95</td>\n      <td>5986.26</td>\n      <td>197.69</td>\n      <td>0.0</td>\n      <td>conventional</td>\n      <td>2015</td>\n      <td>Albany</td>\n      <td>11</td>\n    </tr>\n    <tr>\n      <th>...</th>\n      <td>...</td>\n      <td>...</td>\n      <td>...</td>\n      <td>...</td>\n      <td>...</td>\n      <td>...</td>\n      <td>...</td>\n      <td>...</td>\n      <td>...</td>\n      <td>...</td>\n      <td>...</td>\n      <td>...</td>\n      <td>...</td>\n      <td>...</td>\n    </tr>\n    <tr>\n      <th>7</th>\n      <td>2018-02-04</td>\n      <td>1.63</td>\n      <td>17074.83</td>\n      <td>2046.96</td>\n      <td>1529.20</td>\n      <td>0.00</td>\n      <td>13498.67</td>\n      <td>13066.82</td>\n      <td>431.85</td>\n      <td>0.0</td>\n      <td>organic</td>\n      <td>2018</td>\n      <td>WestTexNewMexico</td>\n      <td>2</td>\n    </tr>\n    <tr>\n      <th>8</th>\n      <td>2018-01-28</td>\n      <td>1.71</td>\n      <td>13888.04</td>\n      <td>1191.70</td>\n      <td>3431.50</td>\n      <td>0.00</td>\n      <td>9264.84</td>\n      <td>8940.04</td>\n      <td>324.80</td>\n      <td>0.0</td>\n      <td>organic</td>\n      <td>2018</td>\n      <td>WestTexNewMexico</td>\n      <td>1</td>\n    </tr>\n    <tr>\n      <th>9</th>\n      <td>2018-01-21</td>\n      <td>1.87</td>\n      <td>13766.76</td>\n      <td>1191.92</td>\n      <td>2452.79</td>\n      <td>727.94</td>\n      <td>9394.11</td>\n      <td>9351.80</td>\n      <td>42.31</td>\n      <td>0.0</td>\n      <td>organic</td>\n      <td>2018</td>\n      <td>WestTexNewMexico</td>\n      <td>1</td>\n    </tr>\n    <tr>\n      <th>10</th>\n      <td>2018-01-14</td>\n      <td>1.93</td>\n      <td>16205.22</td>\n      <td>1527.63</td>\n      <td>2981.04</td>\n      <td>727.01</td>\n      <td>10969.54</td>\n      <td>10919.54</td>\n      <td>50.00</td>\n      <td>0.0</td>\n      <td>organic</td>\n      <td>2018</td>\n      <td>WestTexNewMexico</td>\n      <td>1</td>\n    </tr>\n    <tr>\n      <th>11</th>\n      <td>2018-01-07</td>\n      <td>1.62</td>\n      <td>17489.58</td>\n      <td>2894.77</td>\n      <td>2356.13</td>\n      <td>224.53</td>\n      <td>12014.15</td>\n      <td>11988.14</td>\n      <td>26.01</td>\n      <td>0.0</td>\n      <td>organic</td>\n      <td>2018</td>\n      <td>WestTexNewMexico</td>\n      <td>1</td>\n    </tr>\n  </tbody>\n</table>\n<p>18249 rows × 14 columns</p>\n</div>"
     },
     "metadata": {},
     "execution_count": 52
    }
   ],
   "source": [
    "df"
   ]
  },
  {
   "cell_type": "code",
   "execution_count": 53,
   "metadata": {},
   "outputs": [
    {
     "output_type": "execute_result",
     "data": {
      "text/plain": "year  month\n2015  1        3.180852e+08\n      2        3.626376e+08\n      3        4.185831e+08\n      4        3.441444e+08\n      5        4.837840e+08\n      6        3.818267e+08\n      7        3.567019e+08\n      8        4.192448e+08\n      9        3.292188e+08\n      10       3.057761e+08\n      11       3.694400e+08\n      12       2.960259e+08\n2016  1        4.754058e+08\n      2        4.286458e+08\n      3        3.912124e+08\n      4        4.018328e+08\n      5        5.612305e+08\n      6        4.103282e+08\n      7        4.672753e+08\n      8        3.707970e+08\n      9        3.623033e+08\n      10       3.602018e+08\n      11       2.602093e+08\n      12       3.314478e+08\n2017  1        5.333330e+08\n      2        4.714672e+08\n      3        3.589034e+08\n      4        4.898145e+08\n      5        4.257305e+08\n      6        4.104107e+08\n      7        4.749037e+08\n      8        3.383330e+08\n      9        2.847795e+08\n      10       3.627780e+08\n      11       3.245193e+08\n      12       4.593329e+08\n2018  1        4.297071e+08\n      2        4.977782e+08\n      3        4.552531e+08\nName: Total Volume, dtype: float64"
     },
     "metadata": {},
     "execution_count": 53
    }
   ],
   "source": [
    "df.groupby(['year','month'])['Total Volume'].sum()"
   ]
  },
  {
   "cell_type": "code",
   "execution_count": 54,
   "metadata": {},
   "outputs": [
    {
     "output_type": "execute_result",
     "data": {
      "text/plain": "                    mean           sum\nyear month                            \n2015 1      7.363084e+05  3.180852e+08\n     2      8.394389e+05  3.626376e+08\n     3      7.751538e+05  4.185831e+08\n     4      7.966305e+05  3.441444e+08\n     5      8.958964e+05  4.837840e+08\n     6      8.838582e+05  3.818267e+08\n     7      8.256988e+05  3.567019e+08\n     8      7.763793e+05  4.192448e+08\n     9      7.620806e+05  3.292188e+08\n     10     7.078151e+05  3.057761e+08\n     11     6.841482e+05  3.694400e+08\n     12     6.868351e+05  2.960259e+08\n2016 1      8.803810e+05  4.754058e+08\n     2      9.922357e+05  4.286458e+08\n     3      9.055843e+05  3.912124e+08\n     4      9.301684e+05  4.018328e+08\n     5      1.039316e+06  5.612305e+08\n     6      9.498337e+05  4.103282e+08\n     7      8.653247e+05  4.672753e+08\n     8      8.583263e+05  3.707970e+08\n     9      8.386650e+05  3.623033e+08\n     10     6.670404e+05  3.602018e+08\n     11     6.023364e+05  2.602093e+08\n     12     7.672402e+05  3.314478e+08\n2017 1      9.876538e+05  5.333330e+08\n     2      1.091359e+06  4.714672e+08\n     3      8.307949e+05  3.589034e+08\n     4      9.070639e+05  4.898145e+08\n     5      9.854874e+05  4.257305e+08\n     6      9.544434e+05  4.104107e+08\n     7      8.794513e+05  4.749037e+08\n     8      7.831782e+05  3.383330e+08\n     9      6.592119e+05  2.847795e+08\n     10     6.718110e+05  3.627780e+08\n     11     7.512021e+05  3.245193e+08\n     12     8.506164e+05  4.593329e+08\n2018 1      9.946923e+05  4.297071e+08\n     2      1.152264e+06  4.977782e+08\n     3      1.053827e+06  4.552531e+08",
      "text/html": "<div>\n<style scoped>\n    .dataframe tbody tr th:only-of-type {\n        vertical-align: middle;\n    }\n\n    .dataframe tbody tr th {\n        vertical-align: top;\n    }\n\n    .dataframe thead th {\n        text-align: right;\n    }\n</style>\n<table border=\"1\" class=\"dataframe\">\n  <thead>\n    <tr style=\"text-align: right;\">\n      <th></th>\n      <th></th>\n      <th>mean</th>\n      <th>sum</th>\n    </tr>\n    <tr>\n      <th>year</th>\n      <th>month</th>\n      <th></th>\n      <th></th>\n    </tr>\n  </thead>\n  <tbody>\n    <tr>\n      <th rowspan=\"12\" valign=\"top\">2015</th>\n      <th>1</th>\n      <td>7.363084e+05</td>\n      <td>3.180852e+08</td>\n    </tr>\n    <tr>\n      <th>2</th>\n      <td>8.394389e+05</td>\n      <td>3.626376e+08</td>\n    </tr>\n    <tr>\n      <th>3</th>\n      <td>7.751538e+05</td>\n      <td>4.185831e+08</td>\n    </tr>\n    <tr>\n      <th>4</th>\n      <td>7.966305e+05</td>\n      <td>3.441444e+08</td>\n    </tr>\n    <tr>\n      <th>5</th>\n      <td>8.958964e+05</td>\n      <td>4.837840e+08</td>\n    </tr>\n    <tr>\n      <th>6</th>\n      <td>8.838582e+05</td>\n      <td>3.818267e+08</td>\n    </tr>\n    <tr>\n      <th>7</th>\n      <td>8.256988e+05</td>\n      <td>3.567019e+08</td>\n    </tr>\n    <tr>\n      <th>8</th>\n      <td>7.763793e+05</td>\n      <td>4.192448e+08</td>\n    </tr>\n    <tr>\n      <th>9</th>\n      <td>7.620806e+05</td>\n      <td>3.292188e+08</td>\n    </tr>\n    <tr>\n      <th>10</th>\n      <td>7.078151e+05</td>\n      <td>3.057761e+08</td>\n    </tr>\n    <tr>\n      <th>11</th>\n      <td>6.841482e+05</td>\n      <td>3.694400e+08</td>\n    </tr>\n    <tr>\n      <th>12</th>\n      <td>6.868351e+05</td>\n      <td>2.960259e+08</td>\n    </tr>\n    <tr>\n      <th rowspan=\"12\" valign=\"top\">2016</th>\n      <th>1</th>\n      <td>8.803810e+05</td>\n      <td>4.754058e+08</td>\n    </tr>\n    <tr>\n      <th>2</th>\n      <td>9.922357e+05</td>\n      <td>4.286458e+08</td>\n    </tr>\n    <tr>\n      <th>3</th>\n      <td>9.055843e+05</td>\n      <td>3.912124e+08</td>\n    </tr>\n    <tr>\n      <th>4</th>\n      <td>9.301684e+05</td>\n      <td>4.018328e+08</td>\n    </tr>\n    <tr>\n      <th>5</th>\n      <td>1.039316e+06</td>\n      <td>5.612305e+08</td>\n    </tr>\n    <tr>\n      <th>6</th>\n      <td>9.498337e+05</td>\n      <td>4.103282e+08</td>\n    </tr>\n    <tr>\n      <th>7</th>\n      <td>8.653247e+05</td>\n      <td>4.672753e+08</td>\n    </tr>\n    <tr>\n      <th>8</th>\n      <td>8.583263e+05</td>\n      <td>3.707970e+08</td>\n    </tr>\n    <tr>\n      <th>9</th>\n      <td>8.386650e+05</td>\n      <td>3.623033e+08</td>\n    </tr>\n    <tr>\n      <th>10</th>\n      <td>6.670404e+05</td>\n      <td>3.602018e+08</td>\n    </tr>\n    <tr>\n      <th>11</th>\n      <td>6.023364e+05</td>\n      <td>2.602093e+08</td>\n    </tr>\n    <tr>\n      <th>12</th>\n      <td>7.672402e+05</td>\n      <td>3.314478e+08</td>\n    </tr>\n    <tr>\n      <th rowspan=\"12\" valign=\"top\">2017</th>\n      <th>1</th>\n      <td>9.876538e+05</td>\n      <td>5.333330e+08</td>\n    </tr>\n    <tr>\n      <th>2</th>\n      <td>1.091359e+06</td>\n      <td>4.714672e+08</td>\n    </tr>\n    <tr>\n      <th>3</th>\n      <td>8.307949e+05</td>\n      <td>3.589034e+08</td>\n    </tr>\n    <tr>\n      <th>4</th>\n      <td>9.070639e+05</td>\n      <td>4.898145e+08</td>\n    </tr>\n    <tr>\n      <th>5</th>\n      <td>9.854874e+05</td>\n      <td>4.257305e+08</td>\n    </tr>\n    <tr>\n      <th>6</th>\n      <td>9.544434e+05</td>\n      <td>4.104107e+08</td>\n    </tr>\n    <tr>\n      <th>7</th>\n      <td>8.794513e+05</td>\n      <td>4.749037e+08</td>\n    </tr>\n    <tr>\n      <th>8</th>\n      <td>7.831782e+05</td>\n      <td>3.383330e+08</td>\n    </tr>\n    <tr>\n      <th>9</th>\n      <td>6.592119e+05</td>\n      <td>2.847795e+08</td>\n    </tr>\n    <tr>\n      <th>10</th>\n      <td>6.718110e+05</td>\n      <td>3.627780e+08</td>\n    </tr>\n    <tr>\n      <th>11</th>\n      <td>7.512021e+05</td>\n      <td>3.245193e+08</td>\n    </tr>\n    <tr>\n      <th>12</th>\n      <td>8.506164e+05</td>\n      <td>4.593329e+08</td>\n    </tr>\n    <tr>\n      <th rowspan=\"3\" valign=\"top\">2018</th>\n      <th>1</th>\n      <td>9.946923e+05</td>\n      <td>4.297071e+08</td>\n    </tr>\n    <tr>\n      <th>2</th>\n      <td>1.152264e+06</td>\n      <td>4.977782e+08</td>\n    </tr>\n    <tr>\n      <th>3</th>\n      <td>1.053827e+06</td>\n      <td>4.552531e+08</td>\n    </tr>\n  </tbody>\n</table>\n</div>"
     },
     "metadata": {},
     "execution_count": 54
    }
   ],
   "source": [
    "#show mean and sum together with agg\n",
    "df.groupby(['year','month'])['Total Volume'].agg(['mean','sum'])"
   ]
  },
  {
   "cell_type": "code",
   "execution_count": 3,
   "metadata": {},
   "outputs": [],
   "source": [
    "#group by time using resample. NOTE: it requires the date to be the index\n",
    "dft = pd.read_csv('avocado.csv',index_col='Date')\n",
    "dft.index = pd.to_datetime(dft.index)"
   ]
  },
  {
   "cell_type": "code",
   "execution_count": 10,
   "metadata": {},
   "outputs": [
    {
     "output_type": "execute_result",
     "data": {
      "text/plain": "            Unnamed: 0  AveragePrice  Total Volume         4046         4225  \\\nDate                                                                           \n2015-01-04        5507        140.54  8.467434e+07  33098258.74  36851038.43   \n2015-01-18       10690        298.27  1.569446e+08  62826871.85  64470471.77   \n2015-02-01       10258        285.57  1.959195e+08  82598121.83  79625352.85   \n2015-02-15        9826        291.39  1.623083e+08  68935286.96  62940152.72   \n2015-03-01        9394        288.76  1.703109e+08  69851679.69  67918591.55   \n...                ...           ...           ...          ...          ...   \n2018-01-28        1836        299.09  2.268822e+08  74936613.33  72340099.74   \n2018-02-11        1404        274.44  2.867555e+08  98095232.62  88265146.36   \n2018-02-25         972        295.24  2.110227e+08  71260810.54  58947863.08   \n2018-03-11         540        290.01  2.233101e+08  74695183.88  61767836.58   \n2018-03-25         108        287.34  2.319429e+08  72723954.48  64208918.46   \n\n                  4770   Total Bags   Small Bags   Large Bags  XLarge Bags  \\\nDate                                                                         \n2015-01-04  2278818.64  12446221.39   9910008.90   2485655.90     50556.59   \n2015-01-18  4557418.00  25089829.70  20901790.53   4123418.13     64621.04   \n2015-02-01  5765868.17  27930173.47  22454150.60   5326805.31    149217.56   \n2015-02-15  4254748.41  26178081.14  22366769.09   3742011.11     69300.94   \n2015-03-01  5387890.27  27152776.50  23165319.07   3809690.46    177766.97   \n...                ...          ...          ...          ...          ...   \n2018-01-28  4034374.69  75570277.47  55907235.33  18786154.18    876887.96   \n2018-02-11  4576652.54  95817218.08  68103103.78  26421615.29   1292499.01   \n2018-02-25  3449629.56  77361702.87  56231809.42  19750167.10   1379726.35   \n2018-03-11  3452743.73  83391791.03  63604181.65  18382510.51   1405098.87   \n2018-03-25  3798824.64  91207829.91  68817364.87  20876476.06   1513988.98   \n\n              year  \nDate                \n2015-01-04  217620  \n2015-01-18  435240  \n2015-02-01  435240  \n2015-02-15  435240  \n2015-03-01  435240  \n...            ...  \n2018-01-28  435888  \n2018-02-11  435888  \n2018-02-25  435888  \n2018-03-11  435888  \n2018-03-25  435888  \n\n[85 rows x 11 columns]",
      "text/html": "<div>\n<style scoped>\n    .dataframe tbody tr th:only-of-type {\n        vertical-align: middle;\n    }\n\n    .dataframe tbody tr th {\n        vertical-align: top;\n    }\n\n    .dataframe thead th {\n        text-align: right;\n    }\n</style>\n<table border=\"1\" class=\"dataframe\">\n  <thead>\n    <tr style=\"text-align: right;\">\n      <th></th>\n      <th>Unnamed: 0</th>\n      <th>AveragePrice</th>\n      <th>Total Volume</th>\n      <th>4046</th>\n      <th>4225</th>\n      <th>4770</th>\n      <th>Total Bags</th>\n      <th>Small Bags</th>\n      <th>Large Bags</th>\n      <th>XLarge Bags</th>\n      <th>year</th>\n    </tr>\n    <tr>\n      <th>Date</th>\n      <th></th>\n      <th></th>\n      <th></th>\n      <th></th>\n      <th></th>\n      <th></th>\n      <th></th>\n      <th></th>\n      <th></th>\n      <th></th>\n      <th></th>\n    </tr>\n  </thead>\n  <tbody>\n    <tr>\n      <th>2015-01-04</th>\n      <td>5507</td>\n      <td>140.54</td>\n      <td>8.467434e+07</td>\n      <td>33098258.74</td>\n      <td>36851038.43</td>\n      <td>2278818.64</td>\n      <td>12446221.39</td>\n      <td>9910008.90</td>\n      <td>2485655.90</td>\n      <td>50556.59</td>\n      <td>217620</td>\n    </tr>\n    <tr>\n      <th>2015-01-18</th>\n      <td>10690</td>\n      <td>298.27</td>\n      <td>1.569446e+08</td>\n      <td>62826871.85</td>\n      <td>64470471.77</td>\n      <td>4557418.00</td>\n      <td>25089829.70</td>\n      <td>20901790.53</td>\n      <td>4123418.13</td>\n      <td>64621.04</td>\n      <td>435240</td>\n    </tr>\n    <tr>\n      <th>2015-02-01</th>\n      <td>10258</td>\n      <td>285.57</td>\n      <td>1.959195e+08</td>\n      <td>82598121.83</td>\n      <td>79625352.85</td>\n      <td>5765868.17</td>\n      <td>27930173.47</td>\n      <td>22454150.60</td>\n      <td>5326805.31</td>\n      <td>149217.56</td>\n      <td>435240</td>\n    </tr>\n    <tr>\n      <th>2015-02-15</th>\n      <td>9826</td>\n      <td>291.39</td>\n      <td>1.623083e+08</td>\n      <td>68935286.96</td>\n      <td>62940152.72</td>\n      <td>4254748.41</td>\n      <td>26178081.14</td>\n      <td>22366769.09</td>\n      <td>3742011.11</td>\n      <td>69300.94</td>\n      <td>435240</td>\n    </tr>\n    <tr>\n      <th>2015-03-01</th>\n      <td>9394</td>\n      <td>288.76</td>\n      <td>1.703109e+08</td>\n      <td>69851679.69</td>\n      <td>67918591.55</td>\n      <td>5387890.27</td>\n      <td>27152776.50</td>\n      <td>23165319.07</td>\n      <td>3809690.46</td>\n      <td>177766.97</td>\n      <td>435240</td>\n    </tr>\n    <tr>\n      <th>...</th>\n      <td>...</td>\n      <td>...</td>\n      <td>...</td>\n      <td>...</td>\n      <td>...</td>\n      <td>...</td>\n      <td>...</td>\n      <td>...</td>\n      <td>...</td>\n      <td>...</td>\n      <td>...</td>\n    </tr>\n    <tr>\n      <th>2018-01-28</th>\n      <td>1836</td>\n      <td>299.09</td>\n      <td>2.268822e+08</td>\n      <td>74936613.33</td>\n      <td>72340099.74</td>\n      <td>4034374.69</td>\n      <td>75570277.47</td>\n      <td>55907235.33</td>\n      <td>18786154.18</td>\n      <td>876887.96</td>\n      <td>435888</td>\n    </tr>\n    <tr>\n      <th>2018-02-11</th>\n      <td>1404</td>\n      <td>274.44</td>\n      <td>2.867555e+08</td>\n      <td>98095232.62</td>\n      <td>88265146.36</td>\n      <td>4576652.54</td>\n      <td>95817218.08</td>\n      <td>68103103.78</td>\n      <td>26421615.29</td>\n      <td>1292499.01</td>\n      <td>435888</td>\n    </tr>\n    <tr>\n      <th>2018-02-25</th>\n      <td>972</td>\n      <td>295.24</td>\n      <td>2.110227e+08</td>\n      <td>71260810.54</td>\n      <td>58947863.08</td>\n      <td>3449629.56</td>\n      <td>77361702.87</td>\n      <td>56231809.42</td>\n      <td>19750167.10</td>\n      <td>1379726.35</td>\n      <td>435888</td>\n    </tr>\n    <tr>\n      <th>2018-03-11</th>\n      <td>540</td>\n      <td>290.01</td>\n      <td>2.233101e+08</td>\n      <td>74695183.88</td>\n      <td>61767836.58</td>\n      <td>3452743.73</td>\n      <td>83391791.03</td>\n      <td>63604181.65</td>\n      <td>18382510.51</td>\n      <td>1405098.87</td>\n      <td>435888</td>\n    </tr>\n    <tr>\n      <th>2018-03-25</th>\n      <td>108</td>\n      <td>287.34</td>\n      <td>2.319429e+08</td>\n      <td>72723954.48</td>\n      <td>64208918.46</td>\n      <td>3798824.64</td>\n      <td>91207829.91</td>\n      <td>68817364.87</td>\n      <td>20876476.06</td>\n      <td>1513988.98</td>\n      <td>435888</td>\n    </tr>\n  </tbody>\n</table>\n<p>85 rows × 11 columns</p>\n</div>"
     },
     "metadata": {},
     "execution_count": 10
    }
   ],
   "source": [
    "#group by 2 weeks, and calculate mean\n",
    "dft.resample('2W').mean()"
   ]
  },
  {
   "cell_type": "code",
   "execution_count": 11,
   "metadata": {},
   "outputs": [
    {
     "output_type": "execute_result",
     "data": {
      "text/plain": "            Unnamed: 0  AveragePrice  Total Volume  4046  4225  4770  \\\nDate                                                                   \n2015-01-31         432           432           432   432   432   432   \n2015-02-28         432           432           432   432   432   432   \n2015-03-31         540           540           540   540   540   540   \n2015-04-30         432           432           432   432   432   432   \n2015-05-31         540           540           540   540   540   540   \n2015-06-30         432           432           432   432   432   432   \n2015-07-31         432           432           432   432   432   432   \n2015-08-31         540           540           540   540   540   540   \n2015-09-30         432           432           432   432   432   432   \n2015-10-31         432           432           432   432   432   432   \n2015-11-30         540           540           540   540   540   540   \n2015-12-31         431           431           431   431   431   431   \n2016-01-31         540           540           540   540   540   540   \n2016-02-29         432           432           432   432   432   432   \n2016-03-31         432           432           432   432   432   432   \n2016-04-30         432           432           432   432   432   432   \n2016-05-31         540           540           540   540   540   540   \n2016-06-30         432           432           432   432   432   432   \n2016-07-31         540           540           540   540   540   540   \n2016-08-31         432           432           432   432   432   432   \n2016-09-30         432           432           432   432   432   432   \n2016-10-31         540           540           540   540   540   540   \n2016-11-30         432           432           432   432   432   432   \n2016-12-31         432           432           432   432   432   432   \n2017-01-31         540           540           540   540   540   540   \n2017-02-28         432           432           432   432   432   432   \n2017-03-31         432           432           432   432   432   432   \n2017-04-30         540           540           540   540   540   540   \n2017-05-31         432           432           432   432   432   432   \n2017-06-30         430           430           430   430   430   430   \n2017-07-31         540           540           540   540   540   540   \n2017-08-31         432           432           432   432   432   432   \n2017-09-30         432           432           432   432   432   432   \n2017-10-31         540           540           540   540   540   540   \n2017-11-30         432           432           432   432   432   432   \n2017-12-31         540           540           540   540   540   540   \n2018-01-31         432           432           432   432   432   432   \n2018-02-28         432           432           432   432   432   432   \n2018-03-31         432           432           432   432   432   432   \n\n            Total Bags  Small Bags  Large Bags  XLarge Bags  type  year  \\\nDate                                                                      \n2015-01-31         432         432         432          432   432   432   \n2015-02-28         432         432         432          432   432   432   \n2015-03-31         540         540         540          540   540   540   \n2015-04-30         432         432         432          432   432   432   \n2015-05-31         540         540         540          540   540   540   \n2015-06-30         432         432         432          432   432   432   \n2015-07-31         432         432         432          432   432   432   \n2015-08-31         540         540         540          540   540   540   \n2015-09-30         432         432         432          432   432   432   \n2015-10-31         432         432         432          432   432   432   \n2015-11-30         540         540         540          540   540   540   \n2015-12-31         431         431         431          431   431   431   \n2016-01-31         540         540         540          540   540   540   \n2016-02-29         432         432         432          432   432   432   \n2016-03-31         432         432         432          432   432   432   \n2016-04-30         432         432         432          432   432   432   \n2016-05-31         540         540         540          540   540   540   \n2016-06-30         432         432         432          432   432   432   \n2016-07-31         540         540         540          540   540   540   \n2016-08-31         432         432         432          432   432   432   \n2016-09-30         432         432         432          432   432   432   \n2016-10-31         540         540         540          540   540   540   \n2016-11-30         432         432         432          432   432   432   \n2016-12-31         432         432         432          432   432   432   \n2017-01-31         540         540         540          540   540   540   \n2017-02-28         432         432         432          432   432   432   \n2017-03-31         432         432         432          432   432   432   \n2017-04-30         540         540         540          540   540   540   \n2017-05-31         432         432         432          432   432   432   \n2017-06-30         430         430         430          430   430   430   \n2017-07-31         540         540         540          540   540   540   \n2017-08-31         432         432         432          432   432   432   \n2017-09-30         432         432         432          432   432   432   \n2017-10-31         540         540         540          540   540   540   \n2017-11-30         432         432         432          432   432   432   \n2017-12-31         540         540         540          540   540   540   \n2018-01-31         432         432         432          432   432   432   \n2018-02-28         432         432         432          432   432   432   \n2018-03-31         432         432         432          432   432   432   \n\n            region  \nDate                \n2015-01-31     432  \n2015-02-28     432  \n2015-03-31     540  \n2015-04-30     432  \n2015-05-31     540  \n2015-06-30     432  \n2015-07-31     432  \n2015-08-31     540  \n2015-09-30     432  \n2015-10-31     432  \n2015-11-30     540  \n2015-12-31     431  \n2016-01-31     540  \n2016-02-29     432  \n2016-03-31     432  \n2016-04-30     432  \n2016-05-31     540  \n2016-06-30     432  \n2016-07-31     540  \n2016-08-31     432  \n2016-09-30     432  \n2016-10-31     540  \n2016-11-30     432  \n2016-12-31     432  \n2017-01-31     540  \n2017-02-28     432  \n2017-03-31     432  \n2017-04-30     540  \n2017-05-31     432  \n2017-06-30     430  \n2017-07-31     540  \n2017-08-31     432  \n2017-09-30     432  \n2017-10-31     540  \n2017-11-30     432  \n2017-12-31     540  \n2018-01-31     432  \n2018-02-28     432  \n2018-03-31     432  ",
      "text/html": "<div>\n<style scoped>\n    .dataframe tbody tr th:only-of-type {\n        vertical-align: middle;\n    }\n\n    .dataframe tbody tr th {\n        vertical-align: top;\n    }\n\n    .dataframe thead th {\n        text-align: right;\n    }\n</style>\n<table border=\"1\" class=\"dataframe\">\n  <thead>\n    <tr style=\"text-align: right;\">\n      <th></th>\n      <th>Unnamed: 0</th>\n      <th>AveragePrice</th>\n      <th>Total Volume</th>\n      <th>4046</th>\n      <th>4225</th>\n      <th>4770</th>\n      <th>Total Bags</th>\n      <th>Small Bags</th>\n      <th>Large Bags</th>\n      <th>XLarge Bags</th>\n      <th>type</th>\n      <th>year</th>\n      <th>region</th>\n    </tr>\n    <tr>\n      <th>Date</th>\n      <th></th>\n      <th></th>\n      <th></th>\n      <th></th>\n      <th></th>\n      <th></th>\n      <th></th>\n      <th></th>\n      <th></th>\n      <th></th>\n      <th></th>\n      <th></th>\n      <th></th>\n    </tr>\n  </thead>\n  <tbody>\n    <tr>\n      <th>2015-01-31</th>\n      <td>432</td>\n      <td>432</td>\n      <td>432</td>\n      <td>432</td>\n      <td>432</td>\n      <td>432</td>\n      <td>432</td>\n      <td>432</td>\n      <td>432</td>\n      <td>432</td>\n      <td>432</td>\n      <td>432</td>\n      <td>432</td>\n    </tr>\n    <tr>\n      <th>2015-02-28</th>\n      <td>432</td>\n      <td>432</td>\n      <td>432</td>\n      <td>432</td>\n      <td>432</td>\n      <td>432</td>\n      <td>432</td>\n      <td>432</td>\n      <td>432</td>\n      <td>432</td>\n      <td>432</td>\n      <td>432</td>\n      <td>432</td>\n    </tr>\n    <tr>\n      <th>2015-03-31</th>\n      <td>540</td>\n      <td>540</td>\n      <td>540</td>\n      <td>540</td>\n      <td>540</td>\n      <td>540</td>\n      <td>540</td>\n      <td>540</td>\n      <td>540</td>\n      <td>540</td>\n      <td>540</td>\n      <td>540</td>\n      <td>540</td>\n    </tr>\n    <tr>\n      <th>2015-04-30</th>\n      <td>432</td>\n      <td>432</td>\n      <td>432</td>\n      <td>432</td>\n      <td>432</td>\n      <td>432</td>\n      <td>432</td>\n      <td>432</td>\n      <td>432</td>\n      <td>432</td>\n      <td>432</td>\n      <td>432</td>\n      <td>432</td>\n    </tr>\n    <tr>\n      <th>2015-05-31</th>\n      <td>540</td>\n      <td>540</td>\n      <td>540</td>\n      <td>540</td>\n      <td>540</td>\n      <td>540</td>\n      <td>540</td>\n      <td>540</td>\n      <td>540</td>\n      <td>540</td>\n      <td>540</td>\n      <td>540</td>\n      <td>540</td>\n    </tr>\n    <tr>\n      <th>2015-06-30</th>\n      <td>432</td>\n      <td>432</td>\n      <td>432</td>\n      <td>432</td>\n      <td>432</td>\n      <td>432</td>\n      <td>432</td>\n      <td>432</td>\n      <td>432</td>\n      <td>432</td>\n      <td>432</td>\n      <td>432</td>\n      <td>432</td>\n    </tr>\n    <tr>\n      <th>2015-07-31</th>\n      <td>432</td>\n      <td>432</td>\n      <td>432</td>\n      <td>432</td>\n      <td>432</td>\n      <td>432</td>\n      <td>432</td>\n      <td>432</td>\n      <td>432</td>\n      <td>432</td>\n      <td>432</td>\n      <td>432</td>\n      <td>432</td>\n    </tr>\n    <tr>\n      <th>2015-08-31</th>\n      <td>540</td>\n      <td>540</td>\n      <td>540</td>\n      <td>540</td>\n      <td>540</td>\n      <td>540</td>\n      <td>540</td>\n      <td>540</td>\n      <td>540</td>\n      <td>540</td>\n      <td>540</td>\n      <td>540</td>\n      <td>540</td>\n    </tr>\n    <tr>\n      <th>2015-09-30</th>\n      <td>432</td>\n      <td>432</td>\n      <td>432</td>\n      <td>432</td>\n      <td>432</td>\n      <td>432</td>\n      <td>432</td>\n      <td>432</td>\n      <td>432</td>\n      <td>432</td>\n      <td>432</td>\n      <td>432</td>\n      <td>432</td>\n    </tr>\n    <tr>\n      <th>2015-10-31</th>\n      <td>432</td>\n      <td>432</td>\n      <td>432</td>\n      <td>432</td>\n      <td>432</td>\n      <td>432</td>\n      <td>432</td>\n      <td>432</td>\n      <td>432</td>\n      <td>432</td>\n      <td>432</td>\n      <td>432</td>\n      <td>432</td>\n    </tr>\n    <tr>\n      <th>2015-11-30</th>\n      <td>540</td>\n      <td>540</td>\n      <td>540</td>\n      <td>540</td>\n      <td>540</td>\n      <td>540</td>\n      <td>540</td>\n      <td>540</td>\n      <td>540</td>\n      <td>540</td>\n      <td>540</td>\n      <td>540</td>\n      <td>540</td>\n    </tr>\n    <tr>\n      <th>2015-12-31</th>\n      <td>431</td>\n      <td>431</td>\n      <td>431</td>\n      <td>431</td>\n      <td>431</td>\n      <td>431</td>\n      <td>431</td>\n      <td>431</td>\n      <td>431</td>\n      <td>431</td>\n      <td>431</td>\n      <td>431</td>\n      <td>431</td>\n    </tr>\n    <tr>\n      <th>2016-01-31</th>\n      <td>540</td>\n      <td>540</td>\n      <td>540</td>\n      <td>540</td>\n      <td>540</td>\n      <td>540</td>\n      <td>540</td>\n      <td>540</td>\n      <td>540</td>\n      <td>540</td>\n      <td>540</td>\n      <td>540</td>\n      <td>540</td>\n    </tr>\n    <tr>\n      <th>2016-02-29</th>\n      <td>432</td>\n      <td>432</td>\n      <td>432</td>\n      <td>432</td>\n      <td>432</td>\n      <td>432</td>\n      <td>432</td>\n      <td>432</td>\n      <td>432</td>\n      <td>432</td>\n      <td>432</td>\n      <td>432</td>\n      <td>432</td>\n    </tr>\n    <tr>\n      <th>2016-03-31</th>\n      <td>432</td>\n      <td>432</td>\n      <td>432</td>\n      <td>432</td>\n      <td>432</td>\n      <td>432</td>\n      <td>432</td>\n      <td>432</td>\n      <td>432</td>\n      <td>432</td>\n      <td>432</td>\n      <td>432</td>\n      <td>432</td>\n    </tr>\n    <tr>\n      <th>2016-04-30</th>\n      <td>432</td>\n      <td>432</td>\n      <td>432</td>\n      <td>432</td>\n      <td>432</td>\n      <td>432</td>\n      <td>432</td>\n      <td>432</td>\n      <td>432</td>\n      <td>432</td>\n      <td>432</td>\n      <td>432</td>\n      <td>432</td>\n    </tr>\n    <tr>\n      <th>2016-05-31</th>\n      <td>540</td>\n      <td>540</td>\n      <td>540</td>\n      <td>540</td>\n      <td>540</td>\n      <td>540</td>\n      <td>540</td>\n      <td>540</td>\n      <td>540</td>\n      <td>540</td>\n      <td>540</td>\n      <td>540</td>\n      <td>540</td>\n    </tr>\n    <tr>\n      <th>2016-06-30</th>\n      <td>432</td>\n      <td>432</td>\n      <td>432</td>\n      <td>432</td>\n      <td>432</td>\n      <td>432</td>\n      <td>432</td>\n      <td>432</td>\n      <td>432</td>\n      <td>432</td>\n      <td>432</td>\n      <td>432</td>\n      <td>432</td>\n    </tr>\n    <tr>\n      <th>2016-07-31</th>\n      <td>540</td>\n      <td>540</td>\n      <td>540</td>\n      <td>540</td>\n      <td>540</td>\n      <td>540</td>\n      <td>540</td>\n      <td>540</td>\n      <td>540</td>\n      <td>540</td>\n      <td>540</td>\n      <td>540</td>\n      <td>540</td>\n    </tr>\n    <tr>\n      <th>2016-08-31</th>\n      <td>432</td>\n      <td>432</td>\n      <td>432</td>\n      <td>432</td>\n      <td>432</td>\n      <td>432</td>\n      <td>432</td>\n      <td>432</td>\n      <td>432</td>\n      <td>432</td>\n      <td>432</td>\n      <td>432</td>\n      <td>432</td>\n    </tr>\n    <tr>\n      <th>2016-09-30</th>\n      <td>432</td>\n      <td>432</td>\n      <td>432</td>\n      <td>432</td>\n      <td>432</td>\n      <td>432</td>\n      <td>432</td>\n      <td>432</td>\n      <td>432</td>\n      <td>432</td>\n      <td>432</td>\n      <td>432</td>\n      <td>432</td>\n    </tr>\n    <tr>\n      <th>2016-10-31</th>\n      <td>540</td>\n      <td>540</td>\n      <td>540</td>\n      <td>540</td>\n      <td>540</td>\n      <td>540</td>\n      <td>540</td>\n      <td>540</td>\n      <td>540</td>\n      <td>540</td>\n      <td>540</td>\n      <td>540</td>\n      <td>540</td>\n    </tr>\n    <tr>\n      <th>2016-11-30</th>\n      <td>432</td>\n      <td>432</td>\n      <td>432</td>\n      <td>432</td>\n      <td>432</td>\n      <td>432</td>\n      <td>432</td>\n      <td>432</td>\n      <td>432</td>\n      <td>432</td>\n      <td>432</td>\n      <td>432</td>\n      <td>432</td>\n    </tr>\n    <tr>\n      <th>2016-12-31</th>\n      <td>432</td>\n      <td>432</td>\n      <td>432</td>\n      <td>432</td>\n      <td>432</td>\n      <td>432</td>\n      <td>432</td>\n      <td>432</td>\n      <td>432</td>\n      <td>432</td>\n      <td>432</td>\n      <td>432</td>\n      <td>432</td>\n    </tr>\n    <tr>\n      <th>2017-01-31</th>\n      <td>540</td>\n      <td>540</td>\n      <td>540</td>\n      <td>540</td>\n      <td>540</td>\n      <td>540</td>\n      <td>540</td>\n      <td>540</td>\n      <td>540</td>\n      <td>540</td>\n      <td>540</td>\n      <td>540</td>\n      <td>540</td>\n    </tr>\n    <tr>\n      <th>2017-02-28</th>\n      <td>432</td>\n      <td>432</td>\n      <td>432</td>\n      <td>432</td>\n      <td>432</td>\n      <td>432</td>\n      <td>432</td>\n      <td>432</td>\n      <td>432</td>\n      <td>432</td>\n      <td>432</td>\n      <td>432</td>\n      <td>432</td>\n    </tr>\n    <tr>\n      <th>2017-03-31</th>\n      <td>432</td>\n      <td>432</td>\n      <td>432</td>\n      <td>432</td>\n      <td>432</td>\n      <td>432</td>\n      <td>432</td>\n      <td>432</td>\n      <td>432</td>\n      <td>432</td>\n      <td>432</td>\n      <td>432</td>\n      <td>432</td>\n    </tr>\n    <tr>\n      <th>2017-04-30</th>\n      <td>540</td>\n      <td>540</td>\n      <td>540</td>\n      <td>540</td>\n      <td>540</td>\n      <td>540</td>\n      <td>540</td>\n      <td>540</td>\n      <td>540</td>\n      <td>540</td>\n      <td>540</td>\n      <td>540</td>\n      <td>540</td>\n    </tr>\n    <tr>\n      <th>2017-05-31</th>\n      <td>432</td>\n      <td>432</td>\n      <td>432</td>\n      <td>432</td>\n      <td>432</td>\n      <td>432</td>\n      <td>432</td>\n      <td>432</td>\n      <td>432</td>\n      <td>432</td>\n      <td>432</td>\n      <td>432</td>\n      <td>432</td>\n    </tr>\n    <tr>\n      <th>2017-06-30</th>\n      <td>430</td>\n      <td>430</td>\n      <td>430</td>\n      <td>430</td>\n      <td>430</td>\n      <td>430</td>\n      <td>430</td>\n      <td>430</td>\n      <td>430</td>\n      <td>430</td>\n      <td>430</td>\n      <td>430</td>\n      <td>430</td>\n    </tr>\n    <tr>\n      <th>2017-07-31</th>\n      <td>540</td>\n      <td>540</td>\n      <td>540</td>\n      <td>540</td>\n      <td>540</td>\n      <td>540</td>\n      <td>540</td>\n      <td>540</td>\n      <td>540</td>\n      <td>540</td>\n      <td>540</td>\n      <td>540</td>\n      <td>540</td>\n    </tr>\n    <tr>\n      <th>2017-08-31</th>\n      <td>432</td>\n      <td>432</td>\n      <td>432</td>\n      <td>432</td>\n      <td>432</td>\n      <td>432</td>\n      <td>432</td>\n      <td>432</td>\n      <td>432</td>\n      <td>432</td>\n      <td>432</td>\n      <td>432</td>\n      <td>432</td>\n    </tr>\n    <tr>\n      <th>2017-09-30</th>\n      <td>432</td>\n      <td>432</td>\n      <td>432</td>\n      <td>432</td>\n      <td>432</td>\n      <td>432</td>\n      <td>432</td>\n      <td>432</td>\n      <td>432</td>\n      <td>432</td>\n      <td>432</td>\n      <td>432</td>\n      <td>432</td>\n    </tr>\n    <tr>\n      <th>2017-10-31</th>\n      <td>540</td>\n      <td>540</td>\n      <td>540</td>\n      <td>540</td>\n      <td>540</td>\n      <td>540</td>\n      <td>540</td>\n      <td>540</td>\n      <td>540</td>\n      <td>540</td>\n      <td>540</td>\n      <td>540</td>\n      <td>540</td>\n    </tr>\n    <tr>\n      <th>2017-11-30</th>\n      <td>432</td>\n      <td>432</td>\n      <td>432</td>\n      <td>432</td>\n      <td>432</td>\n      <td>432</td>\n      <td>432</td>\n      <td>432</td>\n      <td>432</td>\n      <td>432</td>\n      <td>432</td>\n      <td>432</td>\n      <td>432</td>\n    </tr>\n    <tr>\n      <th>2017-12-31</th>\n      <td>540</td>\n      <td>540</td>\n      <td>540</td>\n      <td>540</td>\n      <td>540</td>\n      <td>540</td>\n      <td>540</td>\n      <td>540</td>\n      <td>540</td>\n      <td>540</td>\n      <td>540</td>\n      <td>540</td>\n      <td>540</td>\n    </tr>\n    <tr>\n      <th>2018-01-31</th>\n      <td>432</td>\n      <td>432</td>\n      <td>432</td>\n      <td>432</td>\n      <td>432</td>\n      <td>432</td>\n      <td>432</td>\n      <td>432</td>\n      <td>432</td>\n      <td>432</td>\n      <td>432</td>\n      <td>432</td>\n      <td>432</td>\n    </tr>\n    <tr>\n      <th>2018-02-28</th>\n      <td>432</td>\n      <td>432</td>\n      <td>432</td>\n      <td>432</td>\n      <td>432</td>\n      <td>432</td>\n      <td>432</td>\n      <td>432</td>\n      <td>432</td>\n      <td>432</td>\n      <td>432</td>\n      <td>432</td>\n      <td>432</td>\n    </tr>\n    <tr>\n      <th>2018-03-31</th>\n      <td>432</td>\n      <td>432</td>\n      <td>432</td>\n      <td>432</td>\n      <td>432</td>\n      <td>432</td>\n      <td>432</td>\n      <td>432</td>\n      <td>432</td>\n      <td>432</td>\n      <td>432</td>\n      <td>432</td>\n      <td>432</td>\n    </tr>\n  </tbody>\n</table>\n</div>"
     },
     "metadata": {},
     "execution_count": 11
    }
   ],
   "source": [
    "#group by month and count rows (entries)\n",
    "dft.resample('M').count()"
   ]
  },
  {
   "cell_type": "code",
   "execution_count": 12,
   "metadata": {},
   "outputs": [
    {
     "output_type": "execute_result",
     "data": {
      "text/plain": "            Unnamed: 0  AveragePrice  Total Volume  4046  4225  4770  \\\nDate                                                                   \n2014-12-31         432           432           432   432   432   432   \n2015-01-31         432           432           432   432   432   432   \n2015-02-28         540           540           540   540   540   540   \n2015-03-31         432           432           432   432   432   432   \n2015-04-30         540           540           540   540   540   540   \n2015-05-31         432           432           432   432   432   432   \n2015-06-30         432           432           432   432   432   432   \n2015-07-31         540           540           540   540   540   540   \n2015-08-31         432           432           432   432   432   432   \n2015-09-30         432           432           432   432   432   432   \n2015-10-31         540           540           540   540   540   540   \n2015-11-30         431           431           431   431   431   431   \n2015-12-31         540           540           540   540   540   540   \n2016-01-31         432           432           432   432   432   432   \n2016-02-29         432           432           432   432   432   432   \n2016-03-31         432           432           432   432   432   432   \n2016-04-30         540           540           540   540   540   540   \n2016-05-31         432           432           432   432   432   432   \n2016-06-30         540           540           540   540   540   540   \n2016-07-31         432           432           432   432   432   432   \n2016-08-31         432           432           432   432   432   432   \n2016-09-30         540           540           540   540   540   540   \n2016-10-31         432           432           432   432   432   432   \n2016-11-30         432           432           432   432   432   432   \n2016-12-31         540           540           540   540   540   540   \n2017-01-31         432           432           432   432   432   432   \n2017-02-28         432           432           432   432   432   432   \n2017-03-31         540           540           540   540   540   540   \n2017-04-30         432           432           432   432   432   432   \n2017-05-31         430           430           430   430   430   430   \n2017-06-30         540           540           540   540   540   540   \n2017-07-31         432           432           432   432   432   432   \n2017-08-31         432           432           432   432   432   432   \n2017-09-30         540           540           540   540   540   540   \n2017-10-31         432           432           432   432   432   432   \n2017-11-30         540           540           540   540   540   540   \n2017-12-31         432           432           432   432   432   432   \n2018-01-31         432           432           432   432   432   432   \n2018-02-28         432           432           432   432   432   432   \n\n            Total Bags  Small Bags  Large Bags  XLarge Bags  type  year  \\\nDate                                                                      \n2014-12-31         432         432         432          432   432   432   \n2015-01-31         432         432         432          432   432   432   \n2015-02-28         540         540         540          540   540   540   \n2015-03-31         432         432         432          432   432   432   \n2015-04-30         540         540         540          540   540   540   \n2015-05-31         432         432         432          432   432   432   \n2015-06-30         432         432         432          432   432   432   \n2015-07-31         540         540         540          540   540   540   \n2015-08-31         432         432         432          432   432   432   \n2015-09-30         432         432         432          432   432   432   \n2015-10-31         540         540         540          540   540   540   \n2015-11-30         431         431         431          431   431   431   \n2015-12-31         540         540         540          540   540   540   \n2016-01-31         432         432         432          432   432   432   \n2016-02-29         432         432         432          432   432   432   \n2016-03-31         432         432         432          432   432   432   \n2016-04-30         540         540         540          540   540   540   \n2016-05-31         432         432         432          432   432   432   \n2016-06-30         540         540         540          540   540   540   \n2016-07-31         432         432         432          432   432   432   \n2016-08-31         432         432         432          432   432   432   \n2016-09-30         540         540         540          540   540   540   \n2016-10-31         432         432         432          432   432   432   \n2016-11-30         432         432         432          432   432   432   \n2016-12-31         540         540         540          540   540   540   \n2017-01-31         432         432         432          432   432   432   \n2017-02-28         432         432         432          432   432   432   \n2017-03-31         540         540         540          540   540   540   \n2017-04-30         432         432         432          432   432   432   \n2017-05-31         430         430         430          430   430   430   \n2017-06-30         540         540         540          540   540   540   \n2017-07-31         432         432         432          432   432   432   \n2017-08-31         432         432         432          432   432   432   \n2017-09-30         540         540         540          540   540   540   \n2017-10-31         432         432         432          432   432   432   \n2017-11-30         540         540         540          540   540   540   \n2017-12-31         432         432         432          432   432   432   \n2018-01-31         432         432         432          432   432   432   \n2018-02-28         432         432         432          432   432   432   \n\n            region  \nDate                \n2014-12-31     432  \n2015-01-31     432  \n2015-02-28     540  \n2015-03-31     432  \n2015-04-30     540  \n2015-05-31     432  \n2015-06-30     432  \n2015-07-31     540  \n2015-08-31     432  \n2015-09-30     432  \n2015-10-31     540  \n2015-11-30     431  \n2015-12-31     540  \n2016-01-31     432  \n2016-02-29     432  \n2016-03-31     432  \n2016-04-30     540  \n2016-05-31     432  \n2016-06-30     540  \n2016-07-31     432  \n2016-08-31     432  \n2016-09-30     540  \n2016-10-31     432  \n2016-11-30     432  \n2016-12-31     540  \n2017-01-31     432  \n2017-02-28     432  \n2017-03-31     540  \n2017-04-30     432  \n2017-05-31     430  \n2017-06-30     540  \n2017-07-31     432  \n2017-08-31     432  \n2017-09-30     540  \n2017-10-31     432  \n2017-11-30     540  \n2017-12-31     432  \n2018-01-31     432  \n2018-02-28     432  ",
      "text/html": "<div>\n<style scoped>\n    .dataframe tbody tr th:only-of-type {\n        vertical-align: middle;\n    }\n\n    .dataframe tbody tr th {\n        vertical-align: top;\n    }\n\n    .dataframe thead th {\n        text-align: right;\n    }\n</style>\n<table border=\"1\" class=\"dataframe\">\n  <thead>\n    <tr style=\"text-align: right;\">\n      <th></th>\n      <th>Unnamed: 0</th>\n      <th>AveragePrice</th>\n      <th>Total Volume</th>\n      <th>4046</th>\n      <th>4225</th>\n      <th>4770</th>\n      <th>Total Bags</th>\n      <th>Small Bags</th>\n      <th>Large Bags</th>\n      <th>XLarge Bags</th>\n      <th>type</th>\n      <th>year</th>\n      <th>region</th>\n    </tr>\n    <tr>\n      <th>Date</th>\n      <th></th>\n      <th></th>\n      <th></th>\n      <th></th>\n      <th></th>\n      <th></th>\n      <th></th>\n      <th></th>\n      <th></th>\n      <th></th>\n      <th></th>\n      <th></th>\n      <th></th>\n    </tr>\n  </thead>\n  <tbody>\n    <tr>\n      <th>2014-12-31</th>\n      <td>432</td>\n      <td>432</td>\n      <td>432</td>\n      <td>432</td>\n      <td>432</td>\n      <td>432</td>\n      <td>432</td>\n      <td>432</td>\n      <td>432</td>\n      <td>432</td>\n      <td>432</td>\n      <td>432</td>\n      <td>432</td>\n    </tr>\n    <tr>\n      <th>2015-01-31</th>\n      <td>432</td>\n      <td>432</td>\n      <td>432</td>\n      <td>432</td>\n      <td>432</td>\n      <td>432</td>\n      <td>432</td>\n      <td>432</td>\n      <td>432</td>\n      <td>432</td>\n      <td>432</td>\n      <td>432</td>\n      <td>432</td>\n    </tr>\n    <tr>\n      <th>2015-02-28</th>\n      <td>540</td>\n      <td>540</td>\n      <td>540</td>\n      <td>540</td>\n      <td>540</td>\n      <td>540</td>\n      <td>540</td>\n      <td>540</td>\n      <td>540</td>\n      <td>540</td>\n      <td>540</td>\n      <td>540</td>\n      <td>540</td>\n    </tr>\n    <tr>\n      <th>2015-03-31</th>\n      <td>432</td>\n      <td>432</td>\n      <td>432</td>\n      <td>432</td>\n      <td>432</td>\n      <td>432</td>\n      <td>432</td>\n      <td>432</td>\n      <td>432</td>\n      <td>432</td>\n      <td>432</td>\n      <td>432</td>\n      <td>432</td>\n    </tr>\n    <tr>\n      <th>2015-04-30</th>\n      <td>540</td>\n      <td>540</td>\n      <td>540</td>\n      <td>540</td>\n      <td>540</td>\n      <td>540</td>\n      <td>540</td>\n      <td>540</td>\n      <td>540</td>\n      <td>540</td>\n      <td>540</td>\n      <td>540</td>\n      <td>540</td>\n    </tr>\n    <tr>\n      <th>2015-05-31</th>\n      <td>432</td>\n      <td>432</td>\n      <td>432</td>\n      <td>432</td>\n      <td>432</td>\n      <td>432</td>\n      <td>432</td>\n      <td>432</td>\n      <td>432</td>\n      <td>432</td>\n      <td>432</td>\n      <td>432</td>\n      <td>432</td>\n    </tr>\n    <tr>\n      <th>2015-06-30</th>\n      <td>432</td>\n      <td>432</td>\n      <td>432</td>\n      <td>432</td>\n      <td>432</td>\n      <td>432</td>\n      <td>432</td>\n      <td>432</td>\n      <td>432</td>\n      <td>432</td>\n      <td>432</td>\n      <td>432</td>\n      <td>432</td>\n    </tr>\n    <tr>\n      <th>2015-07-31</th>\n      <td>540</td>\n      <td>540</td>\n      <td>540</td>\n      <td>540</td>\n      <td>540</td>\n      <td>540</td>\n      <td>540</td>\n      <td>540</td>\n      <td>540</td>\n      <td>540</td>\n      <td>540</td>\n      <td>540</td>\n      <td>540</td>\n    </tr>\n    <tr>\n      <th>2015-08-31</th>\n      <td>432</td>\n      <td>432</td>\n      <td>432</td>\n      <td>432</td>\n      <td>432</td>\n      <td>432</td>\n      <td>432</td>\n      <td>432</td>\n      <td>432</td>\n      <td>432</td>\n      <td>432</td>\n      <td>432</td>\n      <td>432</td>\n    </tr>\n    <tr>\n      <th>2015-09-30</th>\n      <td>432</td>\n      <td>432</td>\n      <td>432</td>\n      <td>432</td>\n      <td>432</td>\n      <td>432</td>\n      <td>432</td>\n      <td>432</td>\n      <td>432</td>\n      <td>432</td>\n      <td>432</td>\n      <td>432</td>\n      <td>432</td>\n    </tr>\n    <tr>\n      <th>2015-10-31</th>\n      <td>540</td>\n      <td>540</td>\n      <td>540</td>\n      <td>540</td>\n      <td>540</td>\n      <td>540</td>\n      <td>540</td>\n      <td>540</td>\n      <td>540</td>\n      <td>540</td>\n      <td>540</td>\n      <td>540</td>\n      <td>540</td>\n    </tr>\n    <tr>\n      <th>2015-11-30</th>\n      <td>431</td>\n      <td>431</td>\n      <td>431</td>\n      <td>431</td>\n      <td>431</td>\n      <td>431</td>\n      <td>431</td>\n      <td>431</td>\n      <td>431</td>\n      <td>431</td>\n      <td>431</td>\n      <td>431</td>\n      <td>431</td>\n    </tr>\n    <tr>\n      <th>2015-12-31</th>\n      <td>540</td>\n      <td>540</td>\n      <td>540</td>\n      <td>540</td>\n      <td>540</td>\n      <td>540</td>\n      <td>540</td>\n      <td>540</td>\n      <td>540</td>\n      <td>540</td>\n      <td>540</td>\n      <td>540</td>\n      <td>540</td>\n    </tr>\n    <tr>\n      <th>2016-01-31</th>\n      <td>432</td>\n      <td>432</td>\n      <td>432</td>\n      <td>432</td>\n      <td>432</td>\n      <td>432</td>\n      <td>432</td>\n      <td>432</td>\n      <td>432</td>\n      <td>432</td>\n      <td>432</td>\n      <td>432</td>\n      <td>432</td>\n    </tr>\n    <tr>\n      <th>2016-02-29</th>\n      <td>432</td>\n      <td>432</td>\n      <td>432</td>\n      <td>432</td>\n      <td>432</td>\n      <td>432</td>\n      <td>432</td>\n      <td>432</td>\n      <td>432</td>\n      <td>432</td>\n      <td>432</td>\n      <td>432</td>\n      <td>432</td>\n    </tr>\n    <tr>\n      <th>2016-03-31</th>\n      <td>432</td>\n      <td>432</td>\n      <td>432</td>\n      <td>432</td>\n      <td>432</td>\n      <td>432</td>\n      <td>432</td>\n      <td>432</td>\n      <td>432</td>\n      <td>432</td>\n      <td>432</td>\n      <td>432</td>\n      <td>432</td>\n    </tr>\n    <tr>\n      <th>2016-04-30</th>\n      <td>540</td>\n      <td>540</td>\n      <td>540</td>\n      <td>540</td>\n      <td>540</td>\n      <td>540</td>\n      <td>540</td>\n      <td>540</td>\n      <td>540</td>\n      <td>540</td>\n      <td>540</td>\n      <td>540</td>\n      <td>540</td>\n    </tr>\n    <tr>\n      <th>2016-05-31</th>\n      <td>432</td>\n      <td>432</td>\n      <td>432</td>\n      <td>432</td>\n      <td>432</td>\n      <td>432</td>\n      <td>432</td>\n      <td>432</td>\n      <td>432</td>\n      <td>432</td>\n      <td>432</td>\n      <td>432</td>\n      <td>432</td>\n    </tr>\n    <tr>\n      <th>2016-06-30</th>\n      <td>540</td>\n      <td>540</td>\n      <td>540</td>\n      <td>540</td>\n      <td>540</td>\n      <td>540</td>\n      <td>540</td>\n      <td>540</td>\n      <td>540</td>\n      <td>540</td>\n      <td>540</td>\n      <td>540</td>\n      <td>540</td>\n    </tr>\n    <tr>\n      <th>2016-07-31</th>\n      <td>432</td>\n      <td>432</td>\n      <td>432</td>\n      <td>432</td>\n      <td>432</td>\n      <td>432</td>\n      <td>432</td>\n      <td>432</td>\n      <td>432</td>\n      <td>432</td>\n      <td>432</td>\n      <td>432</td>\n      <td>432</td>\n    </tr>\n    <tr>\n      <th>2016-08-31</th>\n      <td>432</td>\n      <td>432</td>\n      <td>432</td>\n      <td>432</td>\n      <td>432</td>\n      <td>432</td>\n      <td>432</td>\n      <td>432</td>\n      <td>432</td>\n      <td>432</td>\n      <td>432</td>\n      <td>432</td>\n      <td>432</td>\n    </tr>\n    <tr>\n      <th>2016-09-30</th>\n      <td>540</td>\n      <td>540</td>\n      <td>540</td>\n      <td>540</td>\n      <td>540</td>\n      <td>540</td>\n      <td>540</td>\n      <td>540</td>\n      <td>540</td>\n      <td>540</td>\n      <td>540</td>\n      <td>540</td>\n      <td>540</td>\n    </tr>\n    <tr>\n      <th>2016-10-31</th>\n      <td>432</td>\n      <td>432</td>\n      <td>432</td>\n      <td>432</td>\n      <td>432</td>\n      <td>432</td>\n      <td>432</td>\n      <td>432</td>\n      <td>432</td>\n      <td>432</td>\n      <td>432</td>\n      <td>432</td>\n      <td>432</td>\n    </tr>\n    <tr>\n      <th>2016-11-30</th>\n      <td>432</td>\n      <td>432</td>\n      <td>432</td>\n      <td>432</td>\n      <td>432</td>\n      <td>432</td>\n      <td>432</td>\n      <td>432</td>\n      <td>432</td>\n      <td>432</td>\n      <td>432</td>\n      <td>432</td>\n      <td>432</td>\n    </tr>\n    <tr>\n      <th>2016-12-31</th>\n      <td>540</td>\n      <td>540</td>\n      <td>540</td>\n      <td>540</td>\n      <td>540</td>\n      <td>540</td>\n      <td>540</td>\n      <td>540</td>\n      <td>540</td>\n      <td>540</td>\n      <td>540</td>\n      <td>540</td>\n      <td>540</td>\n    </tr>\n    <tr>\n      <th>2017-01-31</th>\n      <td>432</td>\n      <td>432</td>\n      <td>432</td>\n      <td>432</td>\n      <td>432</td>\n      <td>432</td>\n      <td>432</td>\n      <td>432</td>\n      <td>432</td>\n      <td>432</td>\n      <td>432</td>\n      <td>432</td>\n      <td>432</td>\n    </tr>\n    <tr>\n      <th>2017-02-28</th>\n      <td>432</td>\n      <td>432</td>\n      <td>432</td>\n      <td>432</td>\n      <td>432</td>\n      <td>432</td>\n      <td>432</td>\n      <td>432</td>\n      <td>432</td>\n      <td>432</td>\n      <td>432</td>\n      <td>432</td>\n      <td>432</td>\n    </tr>\n    <tr>\n      <th>2017-03-31</th>\n      <td>540</td>\n      <td>540</td>\n      <td>540</td>\n      <td>540</td>\n      <td>540</td>\n      <td>540</td>\n      <td>540</td>\n      <td>540</td>\n      <td>540</td>\n      <td>540</td>\n      <td>540</td>\n      <td>540</td>\n      <td>540</td>\n    </tr>\n    <tr>\n      <th>2017-04-30</th>\n      <td>432</td>\n      <td>432</td>\n      <td>432</td>\n      <td>432</td>\n      <td>432</td>\n      <td>432</td>\n      <td>432</td>\n      <td>432</td>\n      <td>432</td>\n      <td>432</td>\n      <td>432</td>\n      <td>432</td>\n      <td>432</td>\n    </tr>\n    <tr>\n      <th>2017-05-31</th>\n      <td>430</td>\n      <td>430</td>\n      <td>430</td>\n      <td>430</td>\n      <td>430</td>\n      <td>430</td>\n      <td>430</td>\n      <td>430</td>\n      <td>430</td>\n      <td>430</td>\n      <td>430</td>\n      <td>430</td>\n      <td>430</td>\n    </tr>\n    <tr>\n      <th>2017-06-30</th>\n      <td>540</td>\n      <td>540</td>\n      <td>540</td>\n      <td>540</td>\n      <td>540</td>\n      <td>540</td>\n      <td>540</td>\n      <td>540</td>\n      <td>540</td>\n      <td>540</td>\n      <td>540</td>\n      <td>540</td>\n      <td>540</td>\n    </tr>\n    <tr>\n      <th>2017-07-31</th>\n      <td>432</td>\n      <td>432</td>\n      <td>432</td>\n      <td>432</td>\n      <td>432</td>\n      <td>432</td>\n      <td>432</td>\n      <td>432</td>\n      <td>432</td>\n      <td>432</td>\n      <td>432</td>\n      <td>432</td>\n      <td>432</td>\n    </tr>\n    <tr>\n      <th>2017-08-31</th>\n      <td>432</td>\n      <td>432</td>\n      <td>432</td>\n      <td>432</td>\n      <td>432</td>\n      <td>432</td>\n      <td>432</td>\n      <td>432</td>\n      <td>432</td>\n      <td>432</td>\n      <td>432</td>\n      <td>432</td>\n      <td>432</td>\n    </tr>\n    <tr>\n      <th>2017-09-30</th>\n      <td>540</td>\n      <td>540</td>\n      <td>540</td>\n      <td>540</td>\n      <td>540</td>\n      <td>540</td>\n      <td>540</td>\n      <td>540</td>\n      <td>540</td>\n      <td>540</td>\n      <td>540</td>\n      <td>540</td>\n      <td>540</td>\n    </tr>\n    <tr>\n      <th>2017-10-31</th>\n      <td>432</td>\n      <td>432</td>\n      <td>432</td>\n      <td>432</td>\n      <td>432</td>\n      <td>432</td>\n      <td>432</td>\n      <td>432</td>\n      <td>432</td>\n      <td>432</td>\n      <td>432</td>\n      <td>432</td>\n      <td>432</td>\n    </tr>\n    <tr>\n      <th>2017-11-30</th>\n      <td>540</td>\n      <td>540</td>\n      <td>540</td>\n      <td>540</td>\n      <td>540</td>\n      <td>540</td>\n      <td>540</td>\n      <td>540</td>\n      <td>540</td>\n      <td>540</td>\n      <td>540</td>\n      <td>540</td>\n      <td>540</td>\n    </tr>\n    <tr>\n      <th>2017-12-31</th>\n      <td>432</td>\n      <td>432</td>\n      <td>432</td>\n      <td>432</td>\n      <td>432</td>\n      <td>432</td>\n      <td>432</td>\n      <td>432</td>\n      <td>432</td>\n      <td>432</td>\n      <td>432</td>\n      <td>432</td>\n      <td>432</td>\n    </tr>\n    <tr>\n      <th>2018-01-31</th>\n      <td>432</td>\n      <td>432</td>\n      <td>432</td>\n      <td>432</td>\n      <td>432</td>\n      <td>432</td>\n      <td>432</td>\n      <td>432</td>\n      <td>432</td>\n      <td>432</td>\n      <td>432</td>\n      <td>432</td>\n      <td>432</td>\n    </tr>\n    <tr>\n      <th>2018-02-28</th>\n      <td>432</td>\n      <td>432</td>\n      <td>432</td>\n      <td>432</td>\n      <td>432</td>\n      <td>432</td>\n      <td>432</td>\n      <td>432</td>\n      <td>432</td>\n      <td>432</td>\n      <td>432</td>\n      <td>432</td>\n      <td>432</td>\n    </tr>\n  </tbody>\n</table>\n</div>"
     },
     "metadata": {},
     "execution_count": 12
    }
   ],
   "source": [
    "#the date entry is actually the ending of the time period (i.e. the month from the 1st of april until the 1st of May will have the index 1st of May)\n",
    "# we can change this using label left\n",
    "dft.resample('M', label='left').count()"
   ]
  },
  {
   "cell_type": "code",
   "execution_count": 39,
   "metadata": {},
   "outputs": [
    {
     "output_type": "execute_result",
     "data": {
      "text/plain": "Date        region             \n2014-12-31  Albany                 1.765180e+05\n            Atlanta                1.728320e+06\n            BaltimoreWashington    2.883524e+06\n            Boise                  2.743618e+05\n            Boston                 1.748752e+06\n                                       ...     \n2018-02-28  Syracuse               3.754490e+05\n            Tampa                  2.260110e+06\n            TotalUS                1.725214e+08\n            West                   3.029377e+07\n            WestTexNewMexico       3.724699e+06\nName: Total Volume, Length: 2106, dtype: float64"
     },
     "metadata": {},
     "execution_count": 39
    }
   ],
   "source": [
    "dft.groupby([pd.Grouper(freq=('M'),label='left'),'region'])['Total Volume'].sum()"
   ]
  },
  {
   "cell_type": "code",
   "execution_count": 28,
   "metadata": {
    "tags": []
   },
   "outputs": [],
   "source": [
    "dfm = dft.groupby('region', as_index = False)['Total Volume'].sum()"
   ]
  },
  {
   "cell_type": "code",
   "execution_count": 37,
   "metadata": {},
   "outputs": [
    {
     "output_type": "execute_result",
     "data": {
      "text/plain": "                   region  Total Volume\n0                  Albany  1.765180e+05\n1                 Atlanta  1.728320e+06\n2     BaltimoreWashington  2.883524e+06\n3                   Boise  2.743618e+05\n4                  Boston  1.748752e+06\n...                   ...           ...\n2101             Syracuse  3.754490e+05\n2102                Tampa  2.260110e+06\n2103              TotalUS  1.725214e+08\n2104                 West  3.029377e+07\n2105     WestTexNewMexico  3.724699e+06\n\n[2106 rows x 2 columns]",
      "text/html": "<div>\n<style scoped>\n    .dataframe tbody tr th:only-of-type {\n        vertical-align: middle;\n    }\n\n    .dataframe tbody tr th {\n        vertical-align: top;\n    }\n\n    .dataframe thead th {\n        text-align: right;\n    }\n</style>\n<table border=\"1\" class=\"dataframe\">\n  <thead>\n    <tr style=\"text-align: right;\">\n      <th></th>\n      <th>region</th>\n      <th>Total Volume</th>\n    </tr>\n  </thead>\n  <tbody>\n    <tr>\n      <th>0</th>\n      <td>Albany</td>\n      <td>1.765180e+05</td>\n    </tr>\n    <tr>\n      <th>1</th>\n      <td>Atlanta</td>\n      <td>1.728320e+06</td>\n    </tr>\n    <tr>\n      <th>2</th>\n      <td>BaltimoreWashington</td>\n      <td>2.883524e+06</td>\n    </tr>\n    <tr>\n      <th>3</th>\n      <td>Boise</td>\n      <td>2.743618e+05</td>\n    </tr>\n    <tr>\n      <th>4</th>\n      <td>Boston</td>\n      <td>1.748752e+06</td>\n    </tr>\n    <tr>\n      <th>...</th>\n      <td>...</td>\n      <td>...</td>\n    </tr>\n    <tr>\n      <th>2101</th>\n      <td>Syracuse</td>\n      <td>3.754490e+05</td>\n    </tr>\n    <tr>\n      <th>2102</th>\n      <td>Tampa</td>\n      <td>2.260110e+06</td>\n    </tr>\n    <tr>\n      <th>2103</th>\n      <td>TotalUS</td>\n      <td>1.725214e+08</td>\n    </tr>\n    <tr>\n      <th>2104</th>\n      <td>West</td>\n      <td>3.029377e+07</td>\n    </tr>\n    <tr>\n      <th>2105</th>\n      <td>WestTexNewMexico</td>\n      <td>3.724699e+06</td>\n    </tr>\n  </tbody>\n</table>\n<p>2106 rows × 2 columns</p>\n</div>"
     },
     "metadata": {},
     "execution_count": 37
    }
   ],
   "source": [
    "dfm"
   ]
  },
  {
   "cell_type": "code",
   "execution_count": null,
   "metadata": {},
   "outputs": [],
   "source": []
  },
  {
   "cell_type": "markdown",
   "metadata": {},
   "source": [
    "# Merge, Join, Concatenate df\n"
   ]
  },
  {
   "cell_type": "code",
   "execution_count": 10,
   "metadata": {
    "tags": []
   },
   "outputs": [
    {
     "output_type": "stream",
     "name": "stdout",
     "text": "<class 'pandas.core.frame.DataFrame'>\nInt64Index: 889 entries, 1 to 891\nData columns (total 8 columns):\n #   Column    Non-Null Count  Dtype  \n---  ------    --------------  -----  \n 0   Survived  889 non-null    int64  \n 1   Pclass    889 non-null    int64  \n 2   Sex       889 non-null    object \n 3   Age       712 non-null    float64\n 4   SibSp     889 non-null    int64  \n 5   Parch     889 non-null    int64  \n 6   Fare      889 non-null    float64\n 7   Embarked  889 non-null    object \ndtypes: float64(2), int64(4), object(2)\nmemory usage: 62.5+ KB\n"
    }
   ],
   "source": [
    "# in this example, we have a problem using concatenate, we get some extra entries\n",
    "import pandas as pd\n",
    "import numpy as np\n",
    "df =pd.read_csv(\"titanic.csv\",index_col='PassengerId')\n",
    "df = df.drop(['Cabin','Name','Ticket'], axis=1)\n",
    "df.dropna(subset=['Embarked'],inplace=True)\n",
    "df.info()\n"
   ]
  },
  {
   "cell_type": "code",
   "execution_count": 11,
   "metadata": {},
   "outputs": [
    {
     "output_type": "execute_result",
     "data": {
      "text/plain": "(889, 4)"
     },
     "metadata": {},
     "execution_count": 11
    }
   ],
   "source": [
    "#we have 889 entires. after the one hot the encoded df has also 889 entries\n",
    "from sklearn.preprocessing import LabelBinarizer, OneHotEncoder, StandardScaler\n",
    "oh = LabelBinarizer()\n",
    "df_sex = df[['Sex']]\n",
    "df_emb = df[['Embarked']]\n",
    "df_s_oh = oh.fit_transform(df_sex)\n",
    "df_emb_oh = oh.fit_transform(df_emb)\n",
    "df_oh = np.hstack((df_s_oh,df_emb_oh))\n",
    "df_oh = pd.DataFrame(df_oh)\n",
    "df_oh.shape\n"
   ]
  },
  {
   "cell_type": "code",
   "execution_count": 12,
   "metadata": {},
   "outputs": [],
   "source": [
    "# but if we merge them with concatenate, we will get extra entries\n",
    "df = df.drop(['Sex','Embarked'],axis=1)\n",
    "\n",
    "result = pd.concat([df, df_oh], axis=1, sort=True)\n"
   ]
  },
  {
   "cell_type": "code",
   "execution_count": 13,
   "metadata": {},
   "outputs": [
    {
     "output_type": "execute_result",
     "data": {
      "text/plain": "(892, 10)"
     },
     "metadata": {},
     "execution_count": 13
    }
   ],
   "source": [
    "result.shape"
   ]
  },
  {
   "cell_type": "code",
   "execution_count": 14,
   "metadata": {
    "tags": []
   },
   "outputs": [
    {
     "output_type": "stream",
     "name": "stdout",
     "text": "<class 'pandas.core.frame.DataFrame'>\nRangeIndex: 889 entries, 0 to 888\nData columns (total 10 columns):\n #   Column  Non-Null Count  Dtype  \n---  ------  --------------  -----  \n 0   0       889 non-null    float64\n 1   1       889 non-null    float64\n 2   2       712 non-null    float64\n 3   3       889 non-null    float64\n 4   4       889 non-null    float64\n 5   5       889 non-null    float64\n 6   6       889 non-null    float64\n 7   7       889 non-null    float64\n 8   8       889 non-null    float64\n 9   9       889 non-null    float64\ndtypes: float64(10)\nmemory usage: 69.6 KB\n"
    }
   ],
   "source": [
    "#we will get the samre result whether we use concat with sort true or false. In this case we can just concat as numpy arrays and then define a new dataframe using the old column names\n",
    "result = pd.DataFrame(np.hstack([df,df_oh]))\n",
    "result.info()"
   ]
  },
  {
   "cell_type": "code",
   "execution_count": 15,
   "metadata": {
    "tags": []
   },
   "outputs": [
    {
     "output_type": "stream",
     "name": "stdout",
     "text": "<class 'pandas.core.frame.DataFrame'>\nRangeIndex: 889 entries, 0 to 888\nData columns (total 10 columns):\n #   Column    Non-Null Count  Dtype  \n---  ------    --------------  -----  \n 0   Survived  889 non-null    float64\n 1   Pclass    889 non-null    float64\n 2   Age       712 non-null    float64\n 3   SibSp     889 non-null    float64\n 4   Parch     889 non-null    float64\n 5   Fare      889 non-null    float64\n 6   Gender    889 non-null    float64\n 7   Emb_S     889 non-null    float64\n 8   Emb_C     889 non-null    float64\n 9   Emb_Q     889 non-null    float64\ndtypes: float64(10)\nmemory usage: 69.6 KB\n"
    }
   ],
   "source": [
    "# rename columns using list\n",
    "cols = list(df)\n",
    "new_cols = ['Gender','Emb_S','Emb_C','Emb_Q']\n",
    "new_ = cols+new_cols\n",
    "result.columns = new_\n",
    "result.info()"
   ]
  },
  {
   "cell_type": "code",
   "execution_count": null,
   "metadata": {},
   "outputs": [],
   "source": [
    "# rename only some of the columns\n",
    "# df.rename(columns=dict(zip(df.columns[1:], new_cols)),inplace=True)\n",
    "# this will rename starting from the column with index 1 (aka the second column), leaving the first as it is"
   ]
  },
  {
   "cell_type": "code",
   "execution_count": 16,
   "metadata": {
    "tags": []
   },
   "outputs": [
    {
     "output_type": "stream",
     "name": "stdout",
     "text": "<class 'pandas.core.frame.DataFrame'>\nInt64Index: 891 entries, 1 to 891\nData columns (total 6 columns):\n #   Column    Non-Null Count  Dtype  \n---  ------    --------------  -----  \n 0   Survived  891 non-null    int64  \n 1   Pclass    891 non-null    int64  \n 2   Age       714 non-null    float64\n 3   SibSp     891 non-null    int64  \n 4   Parch     891 non-null    int64  \n 5   Fare      891 non-null    float64\ndtypes: float64(2), int64(4)\nmemory usage: 48.7 KB\n"
    }
   ],
   "source": [
    "# filter columns based on type, select only numerical or non numerical columns,\n",
    "import pandas as pd\n",
    "import numpy as np\n",
    "df =pd.read_csv(\"titanic.csv\",index_col='PassengerId')\n",
    "df_num = df.select_dtypes(exclude='object')\n",
    "df_cat = df.select_dtypes(include='object')\n",
    "df_num.info()"
   ]
  },
  {
   "cell_type": "code",
   "execution_count": 18,
   "metadata": {
    "tags": []
   },
   "outputs": [
    {
     "output_type": "stream",
     "name": "stdout",
     "text": "<class 'pandas.core.frame.DataFrame'>\nInt64Index: 891 entries, 1 to 891\nData columns (total 5 columns):\n #   Column    Non-Null Count  Dtype \n---  ------    --------------  ----- \n 0   Name      891 non-null    object\n 1   Sex       891 non-null    object\n 2   Ticket    891 non-null    object\n 3   Cabin     204 non-null    object\n 4   Embarked  889 non-null    object\ndtypes: object(5)\nmemory usage: 41.8+ KB\n"
    }
   ],
   "source": [
    "df_cat.info()"
   ]
  },
  {
   "cell_type": "code",
   "execution_count": null,
   "metadata": {},
   "outputs": [],
   "source": []
  }
 ],
 "metadata": {
  "language_info": {
   "codemirror_mode": {
    "name": "ipython",
    "version": 3
   },
   "file_extension": ".py",
   "mimetype": "text/x-python",
   "name": "python",
   "nbconvert_exporter": "python",
   "pygments_lexer": "ipython3",
   "version": "3.7.5-final"
  },
  "orig_nbformat": 2,
  "kernelspec": {
   "name": "python37564bit7f7cc6b8303f427ea0d24b94d8e66e25",
   "display_name": "Python 3.7.5 64-bit"
  }
 },
 "nbformat": 4,
 "nbformat_minor": 2
}